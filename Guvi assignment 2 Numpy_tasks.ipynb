{
  "cells": [
    {
      "cell_type": "markdown",
      "metadata": {
        "id": "view-in-github",
        "colab_type": "text"
      },
      "source": [
        "<a href=\"https://colab.research.google.com/github/GOPIMANISEKARAN/Username-and-password/blob/main/Guvi%20assignment%202%20Numpy_tasks.ipynb\" target=\"_parent\"><img src=\"https://colab.research.google.com/assets/colab-badge.svg\" alt=\"Open In Colab\"/></a>"
      ]
    },
    {
      "cell_type": "markdown",
      "metadata": {
        "id": "uGIxOl3_dbZz"
      },
      "source": [
        "# Numpy\n",
        "\n"
      ]
    },
    {
      "cell_type": "markdown",
      "metadata": {
        "id": "By0YEFabdbaB"
      },
      "source": [
        "#### 1. Import the numpy package under the name `np` (★☆☆) \n",
        "(**hint**: import … as …)"
      ]
    },
    {
      "cell_type": "code",
      "execution_count": null,
      "metadata": {
        "collapsed": true,
        "id": "CYbIezJWdbaD"
      },
      "outputs": [],
      "source": [
        "import numpy as np  "
      ]
    },
    {
      "cell_type": "markdown",
      "metadata": {
        "id": "sfp71CHwdbaF"
      },
      "source": [
        "#### 2. Print the numpy version and the configuration (★☆☆) \n",
        "(**hint**: np.\\_\\_version\\_\\_, np.show\\_config)"
      ]
    },
    {
      "cell_type": "code",
      "execution_count": null,
      "metadata": {
        "id": "ggOHVV4MdbaH",
        "outputId": "4ac8105b-d42c-4243-edda-ba459d93bc82",
        "colab": {
          "base_uri": "https://localhost:8080/"
        }
      },
      "outputs": [
        {
          "output_type": "stream",
          "name": "stdout",
          "text": [
            "1.21.6\n",
            "blas_mkl_info:\n",
            "  NOT AVAILABLE\n",
            "blis_info:\n",
            "  NOT AVAILABLE\n",
            "openblas_info:\n",
            "    libraries = ['openblas', 'openblas']\n",
            "    library_dirs = ['/usr/local/lib']\n",
            "    language = c\n",
            "    define_macros = [('HAVE_CBLAS', None)]\n",
            "    runtime_library_dirs = ['/usr/local/lib']\n",
            "blas_opt_info:\n",
            "    libraries = ['openblas', 'openblas']\n",
            "    library_dirs = ['/usr/local/lib']\n",
            "    language = c\n",
            "    define_macros = [('HAVE_CBLAS', None)]\n",
            "    runtime_library_dirs = ['/usr/local/lib']\n",
            "lapack_mkl_info:\n",
            "  NOT AVAILABLE\n",
            "openblas_lapack_info:\n",
            "    libraries = ['openblas', 'openblas']\n",
            "    library_dirs = ['/usr/local/lib']\n",
            "    language = c\n",
            "    define_macros = [('HAVE_CBLAS', None)]\n",
            "    runtime_library_dirs = ['/usr/local/lib']\n",
            "lapack_opt_info:\n",
            "    libraries = ['openblas', 'openblas']\n",
            "    library_dirs = ['/usr/local/lib']\n",
            "    language = c\n",
            "    define_macros = [('HAVE_CBLAS', None)]\n",
            "    runtime_library_dirs = ['/usr/local/lib']\n",
            "Supported SIMD extensions in this NumPy install:\n",
            "    baseline = SSE,SSE2,SSE3\n",
            "    found = SSSE3,SSE41,POPCNT,SSE42,AVX,F16C,FMA3,AVX2\n",
            "    not found = AVX512F,AVX512CD,AVX512_KNL,AVX512_KNM,AVX512_SKX,AVX512_CLX,AVX512_CNL,AVX512_ICL\n",
            "None\n"
          ]
        }
      ],
      "source": [
        "print(np.__version__)\n",
        "print(np.show_config())"
      ]
    },
    {
      "cell_type": "markdown",
      "metadata": {
        "id": "mWHL_kV4dbaI"
      },
      "source": [
        "#### 3. Create a null vector of size 10 (★☆☆) \n",
        "(**hint**: np.zeros)"
      ]
    },
    {
      "cell_type": "code",
      "execution_count": null,
      "metadata": {
        "id": "J07K0A8MdbaK"
      },
      "outputs": [],
      "source": [
        "x=np.zeros(10)"
      ]
    },
    {
      "cell_type": "markdown",
      "metadata": {
        "id": "0mTvO2KYdbaM"
      },
      "source": [
        "#### 4.  How to find the memory size of any array (★☆☆) \n",
        "(**hint**: size, itemsize)"
      ]
    },
    {
      "cell_type": "code",
      "execution_count": null,
      "metadata": {
        "id": "8AI9N_uWdbaP",
        "outputId": "02be8a7d-d991-4101-cade-f52fa879b29b",
        "colab": {
          "base_uri": "https://localhost:8080/"
        }
      },
      "outputs": [
        {
          "output_type": "stream",
          "name": "stdout",
          "text": [
            "80\n"
          ]
        }
      ],
      "source": [
        "print(x.size*x.itemsize)"
      ]
    },
    {
      "cell_type": "markdown",
      "metadata": {
        "id": "9civ9JutdbaR"
      },
      "source": [
        "#### 5.  How to get the documentation of the numpy add function from the command line? (★☆☆) \n",
        "(**hint**: np.info)"
      ]
    },
    {
      "cell_type": "code",
      "execution_count": null,
      "metadata": {
        "collapsed": true,
        "id": "r13ur9qDdbaT",
        "outputId": "b068a3c7-b265-4826-f402-478135ba71cf",
        "colab": {
          "base_uri": "https://localhost:8080/"
        }
      },
      "outputs": [
        {
          "output_type": "stream",
          "name": "stdout",
          "text": [
            "add(x1, x2, /, out=None, *, where=True, casting='same_kind', order='K', dtype=None, subok=True[, signature, extobj])\n",
            "\n",
            "Add arguments element-wise.\n",
            "\n",
            "Parameters\n",
            "----------\n",
            "x1, x2 : array_like\n",
            "    The arrays to be added.\n",
            "    If ``x1.shape != x2.shape``, they must be broadcastable to a common\n",
            "    shape (which becomes the shape of the output).\n",
            "out : ndarray, None, or tuple of ndarray and None, optional\n",
            "    A location into which the result is stored. If provided, it must have\n",
            "    a shape that the inputs broadcast to. If not provided or None,\n",
            "    a freshly-allocated array is returned. A tuple (possible only as a\n",
            "    keyword argument) must have length equal to the number of outputs.\n",
            "where : array_like, optional\n",
            "    This condition is broadcast over the input. At locations where the\n",
            "    condition is True, the `out` array will be set to the ufunc result.\n",
            "    Elsewhere, the `out` array will retain its original value.\n",
            "    Note that if an uninitialized `out` array is created via the default\n",
            "    ``out=None``, locations within it where the condition is False will\n",
            "    remain uninitialized.\n",
            "**kwargs\n",
            "    For other keyword-only arguments, see the\n",
            "    :ref:`ufunc docs <ufuncs.kwargs>`.\n",
            "\n",
            "Returns\n",
            "-------\n",
            "add : ndarray or scalar\n",
            "    The sum of `x1` and `x2`, element-wise.\n",
            "    This is a scalar if both `x1` and `x2` are scalars.\n",
            "\n",
            "Notes\n",
            "-----\n",
            "Equivalent to `x1` + `x2` in terms of array broadcasting.\n",
            "\n",
            "Examples\n",
            "--------\n",
            ">>> np.add(1.0, 4.0)\n",
            "5.0\n",
            ">>> x1 = np.arange(9.0).reshape((3, 3))\n",
            ">>> x2 = np.arange(3.0)\n",
            ">>> np.add(x1, x2)\n",
            "array([[  0.,   2.,   4.],\n",
            "       [  3.,   5.,   7.],\n",
            "       [  6.,   8.,  10.]])\n",
            "\n",
            "The ``+`` operator can be used as a shorthand for ``np.add`` on ndarrays.\n",
            "\n",
            ">>> x1 = np.arange(9.0).reshape((3, 3))\n",
            ">>> x2 = np.arange(3.0)\n",
            ">>> x1 + x2\n",
            "array([[ 0.,  2.,  4.],\n",
            "       [ 3.,  5.,  7.],\n",
            "       [ 6.,  8., 10.]])\n"
          ]
        }
      ],
      "source": [
        "np.info(np.add)"
      ]
    },
    {
      "cell_type": "markdown",
      "metadata": {
        "id": "J9meE1HzdbaT"
      },
      "source": [
        "#### 6.  Create a null vector of size 10 but the fifth value which is 1 (★☆☆) \n",
        "(**hint**: array\\[4\\])"
      ]
    },
    {
      "cell_type": "code",
      "execution_count": null,
      "metadata": {
        "id": "jEjlf6xYdbaV",
        "outputId": "1cb59a10-247c-4ab8-821d-ddbad223dcc1",
        "colab": {
          "base_uri": "https://localhost:8080/"
        }
      },
      "outputs": [
        {
          "output_type": "stream",
          "name": "stdout",
          "text": [
            "[0. 0. 0. 0. 1. 0. 0. 0. 0. 0.]\n"
          ]
        }
      ],
      "source": [
        "x=np.zeros(10)\n",
        "x[4]=1\n",
        "print(x)"
      ]
    },
    {
      "cell_type": "markdown",
      "metadata": {
        "id": "1GfXt9drdbaV"
      },
      "source": [
        "#### 7.  Create a vector with values ranging from 10 to 49 (★☆☆) \n",
        "(**hint**: np.arange)"
      ]
    },
    {
      "cell_type": "code",
      "execution_count": null,
      "metadata": {
        "id": "Gg9WV6cPdbaX",
        "outputId": "360f4cdb-a89b-42b1-f0f9-22ee78a23646",
        "colab": {
          "base_uri": "https://localhost:8080/"
        }
      },
      "outputs": [
        {
          "output_type": "execute_result",
          "data": {
            "text/plain": [
              "array([10, 11, 12, 13, 14, 15, 16, 17, 18, 19, 20, 21, 22, 23, 24, 25, 26,\n",
              "       27, 28, 29, 30, 31, 32, 33, 34, 35, 36, 37, 38, 39, 40, 41, 42, 43,\n",
              "       44, 45, 46, 47, 48, 49])"
            ]
          },
          "metadata": {},
          "execution_count": 10
        }
      ],
      "source": [
        "x2=np.arange(10,50)\n",
        "x2"
      ]
    },
    {
      "cell_type": "markdown",
      "metadata": {
        "id": "RK-g8lKQdbaY"
      },
      "source": [
        "#### 8.  Reverse a vector (first element becomes last) (★☆☆) \n",
        "(**hint**: array\\[::-1\\])"
      ]
    },
    {
      "cell_type": "code",
      "execution_count": null,
      "metadata": {
        "id": "lvmR8z94dbaZ",
        "outputId": "cc2122f7-f2a9-462a-c2f7-66de66cd0665",
        "colab": {
          "base_uri": "https://localhost:8080/"
        }
      },
      "outputs": [
        {
          "output_type": "execute_result",
          "data": {
            "text/plain": [
              "array([49, 48, 47, 46, 45, 44, 43, 42, 41, 40, 39, 38, 37, 36, 35, 34, 33,\n",
              "       32, 31, 30, 29, 28, 27, 26, 25, 24, 23, 22, 21, 20, 19, 18, 17, 16,\n",
              "       15, 14, 13, 12, 11, 10])"
            ]
          },
          "metadata": {},
          "execution_count": 11
        }
      ],
      "source": [
        "x2[::-1]"
      ]
    },
    {
      "cell_type": "markdown",
      "metadata": {
        "id": "FIzFaUAZdbaa"
      },
      "source": [
        "#### 9.  Create a 3x3 matrix with values ranging from 0 to 8 (★☆☆) \n",
        "(**hint**: reshape)"
      ]
    },
    {
      "cell_type": "code",
      "execution_count": null,
      "metadata": {
        "id": "vzjDPosNdbab",
        "outputId": "b457ed1c-6f35-46dc-dbc3-d5b57e3b320b",
        "colab": {
          "base_uri": "https://localhost:8080/"
        }
      },
      "outputs": [
        {
          "output_type": "execute_result",
          "data": {
            "text/plain": [
              "array([[0, 1, 2],\n",
              "       [3, 4, 5],\n",
              "       [6, 7, 8]])"
            ]
          },
          "metadata": {},
          "execution_count": 12
        }
      ],
      "source": [
        "x3=np.arange(0,9).reshape(3,3)\n",
        "x3"
      ]
    },
    {
      "cell_type": "markdown",
      "metadata": {
        "id": "T0OsYfFIdbac"
      },
      "source": [
        "#### 10. Find indices of non-zero elements from \\[1,2,0,0,4,0\\] (★☆☆) \n",
        "(**hint**: np.nonzero)"
      ]
    },
    {
      "cell_type": "code",
      "execution_count": null,
      "metadata": {
        "id": "Ev3hNYdUdbad",
        "outputId": "03380d1a-f25f-4c3a-e702-a81073f49e95",
        "colab": {
          "base_uri": "https://localhost:8080/"
        }
      },
      "outputs": [
        {
          "output_type": "stream",
          "name": "stdout",
          "text": [
            "(array([0, 1, 4]),)\n"
          ]
        }
      ],
      "source": [
        "a=[1,2,0,0,4,0]\n",
        "print(np.nonzero(a))"
      ]
    },
    {
      "cell_type": "markdown",
      "metadata": {
        "id": "JPcqbjFAdbae"
      },
      "source": [
        "#### 11. Create a 3x3 identity matrix (★☆☆) \n",
        "(**hint**: np.eye)"
      ]
    },
    {
      "cell_type": "code",
      "execution_count": null,
      "metadata": {
        "id": "AaoJ2ffRdbaf",
        "outputId": "65d61eda-24bd-462d-8988-1dbb114b8d41",
        "colab": {
          "base_uri": "https://localhost:8080/"
        }
      },
      "outputs": [
        {
          "output_type": "execute_result",
          "data": {
            "text/plain": [
              "array([[1., 0., 0.],\n",
              "       [0., 1., 0.],\n",
              "       [0., 0., 1.]])"
            ]
          },
          "metadata": {},
          "execution_count": 12
        }
      ],
      "source": [
        "x4=np.identity(3)\n",
        "x4\n",
        "# Z = np.eye(3)\n",
        "# print(Z)\n"
      ]
    },
    {
      "cell_type": "markdown",
      "metadata": {
        "id": "aRkewWM0dbaf"
      },
      "source": [
        "#### 12. Create a 3x3x3 array with random values (★☆☆) \n",
        "(**hint**: np.random.random)"
      ]
    },
    {
      "cell_type": "code",
      "execution_count": null,
      "metadata": {
        "collapsed": true,
        "id": "ZdFaHvj6dbag",
        "outputId": "30aaf96e-cb4d-47d1-f5de-561c24b68acc",
        "colab": {
          "base_uri": "https://localhost:8080/"
        }
      },
      "outputs": [
        {
          "output_type": "execute_result",
          "data": {
            "text/plain": [
              "array([[[0.50067588, 0.87451676, 0.44379743],\n",
              "        [0.17121903, 0.65105018, 0.24191722],\n",
              "        [0.63240854, 0.75441203, 0.02135774]],\n",
              "\n",
              "       [[0.76148255, 0.09550009, 0.20796101],\n",
              "        [0.11503748, 0.65788166, 0.92974989],\n",
              "        [0.41303908, 0.15902407, 0.18221157]],\n",
              "\n",
              "       [[0.81578869, 0.91751555, 0.57363597],\n",
              "        [0.12350925, 0.11729798, 0.79188063],\n",
              "        [0.04507171, 0.89098199, 0.51071047]]])"
            ]
          },
          "metadata": {},
          "execution_count": 15
        }
      ],
      "source": [
        "x4=np.random.random((3,3,3))\n",
        "x4"
      ]
    },
    {
      "cell_type": "markdown",
      "metadata": {
        "id": "EvJZuibIdbag"
      },
      "source": [
        "#### 13. Create a 10x10 array with random values and find the minimum and maximum values (★☆☆) \n",
        "(**hint**: min, max)"
      ]
    },
    {
      "cell_type": "code",
      "execution_count": null,
      "metadata": {
        "id": "YEiW8Jqldbah",
        "outputId": "be9d19a8-b398-4ef4-8ebe-3b3c101cceed",
        "colab": {
          "base_uri": "https://localhost:8080/"
        }
      },
      "outputs": [
        {
          "output_type": "stream",
          "name": "stdout",
          "text": [
            "0.9969694146201874 0.0037797008901211404\n"
          ]
        }
      ],
      "source": [
        "x5=np.random.random((10,10))\n",
        "x5\n",
        "print(np.max(x5),np.min(x5))"
      ]
    },
    {
      "cell_type": "markdown",
      "metadata": {
        "id": "QU17aQkGdbah"
      },
      "source": [
        "#### 14. Create a random vector of size 30 and find the mean value (★☆☆) \n",
        "(**hint**: mean)"
      ]
    },
    {
      "cell_type": "code",
      "execution_count": null,
      "metadata": {
        "id": "sAs1SHrudbai",
        "outputId": "cc8805b0-f083-4b03-cc56-21601f59e78e",
        "colab": {
          "base_uri": "https://localhost:8080/"
        }
      },
      "outputs": [
        {
          "output_type": "stream",
          "name": "stdout",
          "text": [
            "[0.74732144 0.58059286 0.99388011 0.73789204 0.05964121 0.95027822\n",
            " 0.87847568 0.08668835 0.68632149 0.69107329 0.40110707 0.48611963\n",
            " 0.98128004 0.08039158 0.68608261 0.31189896 0.8319199  0.31747695\n",
            " 0.18515394 0.62459362 0.38419126 0.34524121 0.14611613 0.08183244\n",
            " 0.09915191 0.92277865 0.67933087 0.8411428  0.51823182 0.74289061]\n",
            "0.5359698891071999\n"
          ]
        }
      ],
      "source": [
        "x6=np.random.random(30)\n",
        "print(np.mean(x6))"
      ]
    },
    {
      "cell_type": "markdown",
      "metadata": {
        "id": "hdTSU9C3dbai"
      },
      "source": [
        "#### 15. Create a 2d array with 1 on the border and 0 inside (★☆☆) \n",
        "(**hint**: array\\[1:-1, 1:-1\\])"
      ]
    },
    {
      "cell_type": "code",
      "execution_count": null,
      "metadata": {
        "id": "xuhQOxUOdbaj",
        "outputId": "53a78811-2218-424b-bdca-87f98164590d",
        "colab": {
          "base_uri": "https://localhost:8080/"
        }
      },
      "outputs": [
        {
          "output_type": "stream",
          "name": "stdout",
          "text": [
            "[[1. 1. 1. 1. 1.]\n",
            " [1. 0. 0. 0. 1.]\n",
            " [1. 0. 0. 0. 1.]\n",
            " [1. 0. 0. 0. 1.]\n",
            " [1. 1. 1. 1. 1.]]\n"
          ]
        }
      ],
      "source": [
        "x7=np.ones((5,5))\n",
        "x7[1:-1,1:-1]=0\n",
        "print(x7)"
      ]
    },
    {
      "cell_type": "markdown",
      "metadata": {
        "id": "rh-9HInOdbaj"
      },
      "source": [
        "#### 16. How to add a border (filled with 0's) around an existing array? (★☆☆) \n",
        "(**hint**: np.pad)"
      ]
    },
    {
      "cell_type": "code",
      "execution_count": null,
      "metadata": {
        "id": "IQyqIxUMdbak",
        "outputId": "c998452a-4d96-49f7-c0d7-f0938ab6f876",
        "colab": {
          "base_uri": "https://localhost:8080/"
        }
      },
      "outputs": [
        {
          "output_type": "execute_result",
          "data": {
            "text/plain": [
              "array([[0., 0., 0., 0., 0., 0., 0.],\n",
              "       [0., 1., 1., 1., 1., 1., 0.],\n",
              "       [0., 1., 1., 1., 1., 1., 0.],\n",
              "       [0., 1., 1., 1., 1., 1., 0.],\n",
              "       [0., 1., 1., 1., 1., 1., 0.],\n",
              "       [0., 1., 1., 1., 1., 1., 0.],\n",
              "       [0., 0., 0., 0., 0., 0., 0.]])"
            ]
          },
          "metadata": {},
          "execution_count": 27
        }
      ],
      "source": [
        "x8=np.ones((5,5))\n",
        "x9=np.pad(x8,pad_width=1,mode='constant',constant_values=0)\n",
        "x9"
      ]
    },
    {
      "cell_type": "markdown",
      "metadata": {
        "id": "v_zyXzZJdbak"
      },
      "source": [
        "#### 17. What is the result of the following expression? (★☆☆) \n",
        "(**hint**: NaN = not a number, inf = infinity)"
      ]
    },
    {
      "cell_type": "markdown",
      "metadata": {
        "id": "B9WZ_cKSdbal"
      },
      "source": [
        "```python\n",
        "0 * np.nan\n",
        "np.nan == np.nan\n",
        "np.inf > np.nan\n",
        "np.nan - np.nan\n",
        "0.3 == 3 * 0.1\n",
        "```"
      ]
    },
    {
      "cell_type": "code",
      "execution_count": null,
      "metadata": {
        "id": "5Eigq8AWdbam",
        "outputId": "b8d9c100-aae6-44cf-8e31-462728814f97",
        "colab": {
          "base_uri": "https://localhost:8080/"
        }
      },
      "outputs": [
        {
          "output_type": "stream",
          "name": "stdout",
          "text": [
            "nan\n",
            "False\n",
            "False\n",
            "nan\n",
            "False\n"
          ]
        }
      ],
      "source": [
        "print(0 * np.nan)\n",
        "print(np.nan == np.nan)\n",
        "print(np.inf > np.nan)\n",
        "print(np.nan - np.nan)\n",
        "print(0.3 == 3 * 0.1)"
      ]
    },
    {
      "cell_type": "markdown",
      "metadata": {
        "id": "labmoc_bdban"
      },
      "source": [
        "#### 18. Create a 5x5 matrix with values 1,2,3,4 just below the diagonal (★☆☆) \n",
        "(**hint**: np.diag)"
      ]
    },
    {
      "cell_type": "code",
      "execution_count": null,
      "metadata": {
        "id": "f7PcWVcKdbao",
        "outputId": "6f1d8f85-daff-41bc-8713-0cd297446b78",
        "colab": {
          "base_uri": "https://localhost:8080/"
        }
      },
      "outputs": [
        {
          "output_type": "stream",
          "name": "stdout",
          "text": [
            "[[0 0 0 0 0]\n",
            " [1 0 0 0 0]\n",
            " [0 2 0 0 0]\n",
            " [0 0 3 0 0]\n",
            " [0 0 0 4 0]]\n"
          ]
        }
      ],
      "source": [
        "#x10=np.diag([1,2,3,4,5])\n",
        "#x10\n",
        "Z = np.diag(1+np.arange(4),k=-1)\n",
        "print(Z)"
      ]
    },
    {
      "cell_type": "markdown",
      "metadata": {
        "id": "T0NGl_vTdbao"
      },
      "source": [
        "#### 19. Create a 8x8 matrix and fill it with a checkerboard pattern (★☆☆) \n",
        "(**hint**: array\\[::2\\])"
      ]
    },
    {
      "cell_type": "code",
      "execution_count": null,
      "metadata": {
        "id": "5e57YEOCdbaq",
        "outputId": "8140e08f-7e64-4a0a-8726-edbb727f9f7d",
        "colab": {
          "base_uri": "https://localhost:8080/"
        }
      },
      "outputs": [
        {
          "output_type": "stream",
          "name": "stdout",
          "text": [
            "[[0 1 0 1 0 1 0 1]\n",
            " [1 0 1 0 1 0 1 0]\n",
            " [0 1 0 1 0 1 0 1]\n",
            " [1 0 1 0 1 0 1 0]\n",
            " [0 1 0 1 0 1 0 1]\n",
            " [1 0 1 0 1 0 1 0]\n",
            " [0 1 0 1 0 1 0 1]\n",
            " [1 0 1 0 1 0 1 0]]\n"
          ]
        }
      ],
      "source": [
        "b=np.ones((3,3))\n",
        "b=np.zeros((8,8),dtype=int)\n",
        "b[1::2,::2]=1\n",
        "b[::2,1::2]=1\n",
        "print(b)"
      ]
    },
    {
      "cell_type": "markdown",
      "metadata": {
        "id": "sMJLYHOCdbar"
      },
      "source": [
        "#### 20. Consider a (6,7,8) shape array, what is the index (x,y,z) of the 100th element? \n",
        "(**hint**: np.unravel_index)"
      ]
    },
    {
      "cell_type": "code",
      "execution_count": null,
      "metadata": {
        "id": "ybIP1VdZdbas",
        "outputId": "0cfeeaa5-68e1-4261-c1b2-1740261a5f33",
        "colab": {
          "base_uri": "https://localhost:8080/"
        }
      },
      "outputs": [
        {
          "output_type": "execute_result",
          "data": {
            "text/plain": [
              "(1, 5, 4)"
            ]
          },
          "metadata": {},
          "execution_count": 33
        }
      ],
      "source": [
        "x22=np.unravel_index(100,(6,7,8))\n",
        "x22"
      ]
    },
    {
      "cell_type": "markdown",
      "metadata": {
        "id": "44JdwXHLdbas"
      },
      "source": [
        "#### 21. Create a checkerboard 8x8 matrix using the tile function (★☆☆) \n",
        "(**hint**: np.tile)"
      ]
    },
    {
      "cell_type": "code",
      "execution_count": null,
      "metadata": {
        "id": "K0gLC1pZdbau",
        "outputId": "213fbbd7-26e5-4e9a-a76e-9f1c4036c403",
        "colab": {
          "base_uri": "https://localhost:8080/"
        }
      },
      "outputs": [
        {
          "output_type": "stream",
          "name": "stdout",
          "text": [
            "[[0 1 0 1 0 1 0 1]\n",
            " [1 0 1 0 1 0 1 0]\n",
            " [0 1 0 1 0 1 0 1]\n",
            " [1 0 1 0 1 0 1 0]\n",
            " [0 1 0 1 0 1 0 1]\n",
            " [1 0 1 0 1 0 1 0]\n",
            " [0 1 0 1 0 1 0 1]\n",
            " [1 0 1 0 1 0 1 0]]\n"
          ]
        }
      ],
      "source": [
        "array= np.array([[0,1], [1,0]])\n",
        "Z = np.tile(array,(4,4))\n",
        "print (Z)"
      ]
    },
    {
      "cell_type": "markdown",
      "metadata": {
        "id": "FD0JsQy4dbav"
      },
      "source": [
        "#### 22. Normalize a 5x5 random matrix (★☆☆) \n",
        "(**hint**: (x - min) / (max - min))"
      ]
    },
    {
      "cell_type": "code",
      "execution_count": null,
      "metadata": {
        "id": "Ax_5YrA0dbaw",
        "outputId": "b0a7e1a9-0b46-4c2d-bcd1-bef70eeced62",
        "colab": {
          "base_uri": "https://localhost:8080/"
        }
      },
      "outputs": [
        {
          "output_type": "stream",
          "name": "stdout",
          "text": [
            "[[-0.80241616 -0.14995386 -0.94693435 -0.31742486 -0.51661819]\n",
            " [-0.69449434  0.         -0.85676837 -0.13982711 -0.43730337]\n",
            " [-0.67018105 -1.         -0.16793231 -0.68159399 -0.15678898]\n",
            " [-0.36788871 -0.82267958 -0.40483202 -0.30610444 -0.20038697]\n",
            " [-0.11371962 -0.29197338 -0.56274405 -0.87995779 -0.82122989]]\n"
          ]
        }
      ],
      "source": [
        "import numpy as np\n",
        "x=np.random.random((5,5))\n",
        "xmax=x.max()\n",
        "xmin=x.min()\n",
        "x=(x-xmax)/(xmax-xmin)\n",
        "print(x)"
      ]
    },
    {
      "cell_type": "markdown",
      "metadata": {
        "id": "QX8c95vpdbax"
      },
      "source": [
        "#### 23. Create a custom dtype that describes a color as four unsigned bytes (RGBA) (★☆☆) \n",
        "(**hint**: np.dtype)"
      ]
    },
    {
      "cell_type": "code",
      "execution_count": null,
      "metadata": {
        "collapsed": true,
        "id": "4TGTRY1edbay",
        "outputId": "604f6958-c92a-4c40-936a-65d3c09abfeb",
        "colab": {
          "base_uri": "https://localhost:8080/"
        }
      },
      "outputs": [
        {
          "output_type": "execute_result",
          "data": {
            "text/plain": [
              "dtype([('r', 'u1'), ('g', 'u1'), ('b', 'u1'), ('a', 'u1')])"
            ]
          },
          "metadata": {},
          "execution_count": 15
        }
      ],
      "source": [
        "color = np.dtype([(\"r\", np.ubyte),\n",
        "                  (\"g\", np.ubyte),\n",
        "                  (\"b\", np.ubyte),\n",
        "                  (\"a\", np.ubyte)])\n",
        "color"
      ]
    },
    {
      "cell_type": "markdown",
      "metadata": {
        "id": "k3h8kAgRdbaz"
      },
      "source": [
        "#### 24. Multiply a 5x3 matrix by a 3x2 matrix (real matrix product) (★☆☆) \n",
        "(**hint**: np.dot | @)"
      ]
    },
    {
      "cell_type": "code",
      "execution_count": null,
      "metadata": {
        "id": "x-3_nj09dbaz",
        "outputId": "0318c64e-36cc-4f35-acc7-1e88d95e70ad",
        "colab": {
          "base_uri": "https://localhost:8080/"
        }
      },
      "outputs": [
        {
          "output_type": "execute_result",
          "data": {
            "text/plain": [
              "array([[0.81891101, 1.03187413],\n",
              "       [1.13261478, 1.56528099],\n",
              "       [0.70480578, 0.82635412],\n",
              "       [0.88613146, 1.33057513],\n",
              "       [0.52239341, 0.37831754]])"
            ]
          },
          "metadata": {},
          "execution_count": 7
        }
      ],
      "source": [
        "x13=np.dot(np.random.random((5,3)),np.random.random((3,2)))\n",
        "x13"
      ]
    },
    {
      "cell_type": "markdown",
      "metadata": {
        "id": "XQf4q3Nudba0"
      },
      "source": [
        "#### 25. Given a 1D array, negate all elements which are between 3 and 8, in place. (★☆☆) \n",
        "(**hint**: >, <=)"
      ]
    },
    {
      "cell_type": "code",
      "execution_count": null,
      "metadata": {
        "id": "AjLgNpDZdba1",
        "outputId": "e89cc8e1-efc2-4c06-9328-fb90e1056cfe",
        "colab": {
          "base_uri": "https://localhost:8080/"
        }
      },
      "outputs": [
        {
          "output_type": "execute_result",
          "data": {
            "text/plain": [
              "array([ 0,  1,  2,  3, -1, -1, -1, -1,  8,  9, 10])"
            ]
          },
          "metadata": {},
          "execution_count": 20
        }
      ],
      "source": [
        "a=np.arange(11)\n",
        "a[(a>3)&(a<8)]=-1\n",
        "a\n"
      ]
    },
    {
      "cell_type": "markdown",
      "metadata": {
        "id": "57ytL3xedba1"
      },
      "source": [
        "#### 26. What is the output of the following script? (★☆☆) \n",
        "(**hint**: np.sum)"
      ]
    },
    {
      "cell_type": "markdown",
      "metadata": {
        "id": "k-JVGe0Bdba3"
      },
      "source": [
        "```python\n",
        "# Author: Jake VanderPlas\n",
        "\n",
        "print(sum(range(5),-1))\n",
        "from numpy import *\n",
        "print(sum(range(5),-1))\n",
        "```"
      ]
    },
    {
      "cell_type": "code",
      "execution_count": null,
      "metadata": {
        "id": "0SU-lc3Cdba4",
        "outputId": "7b5532f9-3ed9-42ab-b64c-65f15b1261e3",
        "colab": {
          "base_uri": "https://localhost:8080/"
        }
      },
      "outputs": [
        {
          "output_type": "stream",
          "name": "stdout",
          "text": [
            "9\n",
            "10\n"
          ]
        }
      ],
      "source": [
        "print(sum(range(5),-1))\n",
        "from numpy import *\n",
        "print(sum(range(5),-1))"
      ]
    },
    {
      "cell_type": "markdown",
      "metadata": {
        "id": "KYa7xxw_dba4"
      },
      "source": [
        "#### 27. Consider an integer vector Z, which of these expressions are legal? (★☆☆)"
      ]
    },
    {
      "cell_type": "markdown",
      "metadata": {
        "id": "QJxpgPlpdba5"
      },
      "source": [
        "```python\n",
        "Z**Z\n",
        "2 << Z >> 2\n",
        "Z <- Z\n",
        "1j*Z\n",
        "Z/1/1\n",
        "Z<Z>Z\n",
        "```"
      ]
    },
    {
      "cell_type": "code",
      "execution_count": null,
      "metadata": {
        "id": "p7Omcinzdba6"
      },
      "outputs": [],
      "source": [
        "z1=z**z"
      ]
    },
    {
      "cell_type": "markdown",
      "metadata": {
        "id": "9TnhHtgzdba7"
      },
      "source": [
        "#### 28. What are the result of the following expressions?"
      ]
    },
    {
      "cell_type": "markdown",
      "metadata": {
        "id": "va8FWxiydba8"
      },
      "source": [
        "```python\n",
        "np.array(0) / np.array(0)\n",
        "np.array(0) // np.array(0)\n",
        "np.array([np.nan]).astype(int).astype(float)\n",
        "```"
      ]
    },
    {
      "cell_type": "code",
      "execution_count": null,
      "metadata": {
        "id": "6q7v6Mv9dba8",
        "outputId": "b374802c-cbbe-431d-dae3-1ab44f950088",
        "colab": {
          "base_uri": "https://localhost:8080/"
        }
      },
      "outputs": [
        {
          "output_type": "stream",
          "name": "stderr",
          "text": [
            "/usr/local/lib/python3.7/dist-packages/ipykernel_launcher.py:1: RuntimeWarning: invalid value encountered in true_divide\n",
            "  \"\"\"Entry point for launching an IPython kernel.\n",
            "/usr/local/lib/python3.7/dist-packages/ipykernel_launcher.py:2: RuntimeWarning: divide by zero encountered in floor_divide\n",
            "  \n"
          ]
        },
        {
          "output_type": "execute_result",
          "data": {
            "text/plain": [
              "array([-9.22337204e+18])"
            ]
          },
          "metadata": {},
          "execution_count": 12
        }
      ],
      "source": [
        "a=np.array(0) / np.array(0)\n",
        "b=np.array(0) // np.array(0)\n",
        "c=np.array([np.nan]).astype(b).astype(a)\n",
        "c"
      ]
    },
    {
      "cell_type": "markdown",
      "metadata": {
        "id": "0so8sleWdba9"
      },
      "source": [
        "#### 29. How to round away from zero a float array ? (★☆☆) \n",
        "(**hint**: np.uniform, np.copysign, np.ceil, np.abs)"
      ]
    },
    {
      "cell_type": "code",
      "execution_count": null,
      "metadata": {
        "id": "FTm6Gfpwdba-"
      },
      "outputs": [],
      "source": [
        ""
      ]
    },
    {
      "cell_type": "markdown",
      "metadata": {
        "id": "pgE_hcM1dba-"
      },
      "source": [
        "#### 30. How to find common values between two arrays? (★☆☆) \n",
        "(**hint**: np.intersect1d)"
      ]
    },
    {
      "cell_type": "code",
      "execution_count": null,
      "metadata": {
        "id": "S3xFuK3Qdba_",
        "outputId": "29d6ad0f-8c63-43cc-f42a-c2d026741e0d",
        "colab": {
          "base_uri": "https://localhost:8080/"
        }
      },
      "outputs": [
        {
          "output_type": "execute_result",
          "data": {
            "text/plain": [
              "array([5, 7, 9])"
            ]
          },
          "metadata": {},
          "execution_count": 14
        }
      ],
      "source": [
        "s=np.arange(0,10,1)\n",
        "s1=np.arange(5,10,2)\n",
        "c=np.intersect1d(s,s1)\n",
        "c"
      ]
    },
    {
      "cell_type": "markdown",
      "metadata": {
        "id": "rKUbyGqJdba_"
      },
      "source": [
        "#### 31. How to ignore all numpy warnings (not recommended)? (★☆☆) \n",
        "(**hint**: np.seterr, np.errstate)"
      ]
    },
    {
      "cell_type": "code",
      "execution_count": null,
      "metadata": {
        "id": "6ugGp5BKdbbA"
      },
      "outputs": [],
      "source": [
        ""
      ]
    },
    {
      "cell_type": "markdown",
      "metadata": {
        "id": "gaFpDPK7dbbA"
      },
      "source": [
        "#### 32. Is the following expressions true? (★☆☆) \n",
        "(**hint**: imaginary number)"
      ]
    },
    {
      "cell_type": "markdown",
      "metadata": {
        "id": "1oq361HmdbbA"
      },
      "source": [
        "```python\n",
        "np.sqrt(-1) == np.emath.sqrt(-1)\n",
        "```"
      ]
    },
    {
      "cell_type": "code",
      "execution_count": null,
      "metadata": {
        "id": "p_EfjZXddbbB"
      },
      "outputs": [],
      "source": [
        "'yes'"
      ]
    },
    {
      "cell_type": "markdown",
      "metadata": {
        "id": "nc2wcQg-dbbB"
      },
      "source": [
        "#### 33. How to get the dates of yesterday, today and tomorrow? (★☆☆) \n",
        "(**hint**: np.datetime64, np.timedelta64)"
      ]
    },
    {
      "cell_type": "code",
      "execution_count": null,
      "metadata": {
        "collapsed": true,
        "id": "28eOwwJ2dbbC",
        "outputId": "5fdcc4ed-b400-46d3-a685-0c3ee14f1fa5",
        "colab": {
          "base_uri": "https://localhost:8080/"
        }
      },
      "outputs": [
        {
          "output_type": "stream",
          "name": "stdout",
          "text": [
            "2022-08-18 2022-08-19 2022-08-17\n"
          ]
        }
      ],
      "source": [
        "x=np.datetime64('today','D')\n",
        "y=np.timedelta64(1,'D')\n",
        "today=x\n",
        "tomorrow=x+y\n",
        "yesterday=x-y\n",
        "print(today,tomorrow,yesterday)\n"
      ]
    },
    {
      "cell_type": "markdown",
      "metadata": {
        "id": "5LXhtUZVdbbC"
      },
      "source": [
        "#### 34. How to get all the dates corresponding to the month of July 2016? (★★☆) \n",
        "(**hint**: np.arange(dtype=datetime64\\['D'\\]))"
      ]
    },
    {
      "cell_type": "code",
      "execution_count": null,
      "metadata": {
        "id": "TivYF5kvdbbD",
        "outputId": "2c21ec7f-ccb4-4945-8349-9aa23710b50d",
        "colab": {
          "base_uri": "https://localhost:8080/"
        }
      },
      "outputs": [
        {
          "output_type": "execute_result",
          "data": {
            "text/plain": [
              "array(['2016-07-01', '2016-07-02', '2016-07-03', '2016-07-04',\n",
              "       '2016-07-05', '2016-07-06', '2016-07-07', '2016-07-08',\n",
              "       '2016-07-09', '2016-07-10', '2016-07-11', '2016-07-12',\n",
              "       '2016-07-13', '2016-07-14', '2016-07-15', '2016-07-16',\n",
              "       '2016-07-17', '2016-07-18', '2016-07-19', '2016-07-20',\n",
              "       '2016-07-21', '2016-07-22', '2016-07-23', '2016-07-24',\n",
              "       '2016-07-25', '2016-07-26', '2016-07-27', '2016-07-28',\n",
              "       '2016-07-29', '2016-07-30', '2016-07-31'], dtype='datetime64[D]')"
            ]
          },
          "metadata": {},
          "execution_count": 18
        }
      ],
      "source": [
        "x=np.arange('2016-07','2016-08',dtype='datetime64[D]')\n",
        "x"
      ]
    },
    {
      "cell_type": "markdown",
      "metadata": {
        "id": "p2xK5OyRdbbD"
      },
      "source": [
        "#### 35. How to compute ((A+B)\\*(-A/2)) in place (without copy)? (★★☆) \n",
        "(**hint**: np.add(out=), np.negative(out=), np.multiply(out=), np.divide(out=))"
      ]
    },
    {
      "cell_type": "code",
      "execution_count": null,
      "metadata": {
        "id": "4obaE1QkdbbD",
        "outputId": "367bb5c4-e099-4bef-e268-05321d8b3b73",
        "colab": {
          "base_uri": "https://localhost:8080/"
        }
      },
      "outputs": [
        {
          "output_type": "execute_result",
          "data": {
            "text/plain": [
              "array([-5.])"
            ]
          },
          "metadata": {},
          "execution_count": 26
        }
      ],
      "source": [
        "A = np.ones(1)*2\n",
        "B = np.ones(1)*3\n",
        "np.add(A,B,out=B)\n",
        "np.divide(A,2,out=A)\n",
        "np.negative(A,out=A)\n",
        "np.multiply(A,B,out=A)"
      ]
    },
    {
      "cell_type": "markdown",
      "metadata": {
        "id": "xeiLzQ7DdbbE"
      },
      "source": [
        "#### 36. Extract the integer part of a random array using 5 different methods (★★☆) \n",
        "(**hint**: %, np.floor, np.ceil, astype, np.trunc)"
      ]
    },
    {
      "cell_type": "code",
      "execution_count": null,
      "metadata": {
        "id": "aizChqjJdbbE"
      },
      "outputs": [],
      "source": [
        "print(Z // 1)\n",
        "print(np.floor(Z))\n",
        "print(Z.astype(int))\n",
        "print(Z - Z%1)"
      ]
    },
    {
      "cell_type": "markdown",
      "metadata": {
        "id": "OPWrg-mkdbbF"
      },
      "source": [
        "#### 37. Create a 5x5 matrix with row values ranging from 0 to 4 (★★☆) \n",
        "(**hint**: np.arange)"
      ]
    },
    {
      "cell_type": "code",
      "execution_count": null,
      "metadata": {
        "id": "8HoJsghRdbbk",
        "outputId": "05619468-6107-4276-f655-c21ce72663a0",
        "colab": {
          "base_uri": "https://localhost:8080/"
        }
      },
      "outputs": [
        {
          "output_type": "stream",
          "name": "stdout",
          "text": [
            "[[0. 1. 2. 3. 4.]\n",
            " [0. 1. 2. 3. 4.]\n",
            " [0. 1. 2. 3. 4.]\n",
            " [0. 1. 2. 3. 4.]\n",
            " [0. 1. 2. 3. 4.]]\n"
          ]
        }
      ],
      "source": [
        "Z = np.zeros((5,5))\n",
        "Z += np.arange(5)\n",
        "print(Z)"
      ]
    },
    {
      "cell_type": "markdown",
      "metadata": {
        "id": "tvU34Atfdbbl"
      },
      "source": [
        "#### 38. Consider a generator function that generates 10 integers and use it to build an array (★☆☆) \n",
        "(**hint**: np.fromiter)"
      ]
    },
    {
      "cell_type": "code",
      "execution_count": null,
      "metadata": {
        "id": "bc4d1N6idbbs"
      },
      "outputs": [],
      "source": [
        ""
      ]
    },
    {
      "cell_type": "markdown",
      "metadata": {
        "id": "ejOzwgxKdbbt"
      },
      "source": [
        "#### 39. Create a vector of size 10 with values ranging from 0 to 1, both excluded (★★☆) \n",
        "(**hint**: np.linspace)"
      ]
    },
    {
      "cell_type": "code",
      "execution_count": null,
      "metadata": {
        "id": "nHr0zbsBdbbu",
        "outputId": "1b032a22-e7a7-46ab-b2db-680172510ffa",
        "colab": {
          "base_uri": "https://localhost:8080/"
        }
      },
      "outputs": [
        {
          "output_type": "execute_result",
          "data": {
            "text/plain": [
              "array([0.        , 0.11111111, 0.22222222, 0.33333333, 0.44444444,\n",
              "       0.55555556, 0.66666667, 0.77777778, 0.88888889, 1.        ])"
            ]
          },
          "metadata": {},
          "execution_count": 32
        }
      ],
      "source": [
        "x=np.linspace(0,1,10)\n",
        "x"
      ]
    },
    {
      "cell_type": "markdown",
      "metadata": {
        "id": "Z9K5LSVFdbbu"
      },
      "source": [
        "#### 40. Create a random vector of size 10 and sort it (★★☆) \n",
        "(**hint**: sort)"
      ]
    },
    {
      "cell_type": "code",
      "execution_count": null,
      "metadata": {
        "id": "k_os-1dddbbv",
        "outputId": "b738fc89-7ee0-4868-b99d-6388560716ac",
        "colab": {
          "base_uri": "https://localhost:8080/"
        }
      },
      "outputs": [
        {
          "output_type": "stream",
          "name": "stdout",
          "text": [
            "[0.02018204 0.06595112 0.39264182 0.42504593 0.4332298  0.4458067\n",
            " 0.59331929 0.66947918 0.83877428 0.88306947]\n"
          ]
        }
      ],
      "source": [
        "x=np.random.random(10)\n",
        "x.sort()\n",
        "print(x)"
      ]
    },
    {
      "cell_type": "markdown",
      "metadata": {
        "id": "hdRwLpeXdbbv"
      },
      "source": [
        "#### 41. How to sum a small array faster than np.sum? (★★☆) \n",
        "(**hint**: np.add.reduce)"
      ]
    },
    {
      "cell_type": "code",
      "execution_count": null,
      "metadata": {
        "id": "c5hssqhMdbbw",
        "outputId": "5f4cb6e3-7b12-44ff-d86a-2a37ac22124e",
        "colab": {
          "base_uri": "https://localhost:8080/"
        }
      },
      "outputs": [
        {
          "output_type": "execute_result",
          "data": {
            "text/plain": [
              "45"
            ]
          },
          "metadata": {},
          "execution_count": 33
        }
      ],
      "source": [
        "a=np.arange(10)\n",
        "np.add.reduce(a)\n"
      ]
    },
    {
      "cell_type": "markdown",
      "metadata": {
        "id": "-tm_wPQjdbbw"
      },
      "source": [
        "#### 42. Consider two random array A and B, check if they are equal (★★☆) \n",
        "(**hint**: np.allclose, np.array\\_equal)"
      ]
    },
    {
      "cell_type": "code",
      "execution_count": null,
      "metadata": {
        "id": "m_7LXmagdbbx",
        "outputId": "b3d26a64-ee83-44e3-baef-a9a67fbb448b",
        "colab": {
          "base_uri": "https://localhost:8080/"
        }
      },
      "outputs": [
        {
          "output_type": "execute_result",
          "data": {
            "text/plain": [
              "False"
            ]
          },
          "metadata": {},
          "execution_count": 23
        }
      ],
      "source": [
        "A=np.random.random((2,2))\n",
        "B=np.random.random((2,2))\n",
        "c=np.allclose(A,B)\n",
        "c"
      ]
    },
    {
      "cell_type": "markdown",
      "metadata": {
        "id": "hvWr9a36dbby"
      },
      "source": [
        "#### 43. Make an array immutable (read-only) (★★☆) \n",
        "(**hint**: flags.writeable)"
      ]
    },
    {
      "cell_type": "code",
      "execution_count": null,
      "metadata": {
        "id": "jkx713fMdbbz"
      },
      "outputs": [],
      "source": [
        "x=np.arange(0,10)\n",
        "x.flags.writeable=False\n"
      ]
    },
    {
      "cell_type": "markdown",
      "metadata": {
        "id": "F6VFu73Ldbb0"
      },
      "source": [
        "#### 44. Consider a random 10x2 matrix representing cartesian coordinates, convert them to polar coordinates (★★☆) \n",
        "(**hint**: np.sqrt, np.arctan2)"
      ]
    },
    {
      "cell_type": "code",
      "execution_count": null,
      "metadata": {
        "id": "I32a3n-Pdbb1",
        "outputId": "0db17707-a436-4c93-c2d6-4a378e790d06",
        "colab": {
          "base_uri": "https://localhost:8080/"
        }
      },
      "outputs": [
        {
          "output_type": "stream",
          "name": "stdout",
          "text": [
            "[0.6912909  1.02408661 1.06785272 0.86106732 0.53732952 0.41793537\n",
            " 0.34138058 0.51983555 0.43644158 0.93650481]\n",
            "[0.56838584 1.00997245 1.08476332 1.24201631 0.71715021 1.20052619\n",
            " 0.48871216 1.07622363 1.3453113  1.36819589]\n"
          ]
        }
      ],
      "source": [
        "import numpy as np\n",
        "a=np.random.random((10,5))\n",
        "b,c=a[:,0],a[:,1]\n",
        "r=np.sqrt((b**2)+(c**2))\n",
        "s=np.arctan2(c,b)\n",
        "print(r)\n",
        "print(s)"
      ]
    },
    {
      "cell_type": "markdown",
      "metadata": {
        "id": "L8mlGmrKdbb1"
      },
      "source": [
        "#### 45. Create random vector of size 10 and replace the maximum value by 0 (★★☆) \n",
        "(**hint**: argmax)"
      ]
    },
    {
      "cell_type": "code",
      "execution_count": null,
      "metadata": {
        "id": "C_bhOIgSdbb2",
        "outputId": "0b89d4d1-be76-41de-abeb-b27cf3f2d1da",
        "colab": {
          "base_uri": "https://localhost:8080/"
        }
      },
      "outputs": [
        {
          "output_type": "execute_result",
          "data": {
            "text/plain": [
              "array([0.88617492, 0.39428632, 0.62927752, 0.84503414, 0.17644097,\n",
              "       0.        , 0.22912114, 0.476699  , 0.40289533, 0.84268671])"
            ]
          },
          "metadata": {},
          "execution_count": 29
        }
      ],
      "source": [
        "a=np.random.random(10)\n",
        "a[a.argmax()]=0\n",
        "a"
      ]
    },
    {
      "cell_type": "markdown",
      "metadata": {
        "id": "i717Vim8dbb3"
      },
      "source": [
        "#### 46. Create a structured array with `x` and `y` coordinates covering the \\[0,1\\]x\\[0,1\\] area (★★☆) \n",
        "(**hint**: np.meshgrid)"
      ]
    },
    {
      "cell_type": "code",
      "execution_count": null,
      "metadata": {
        "id": "QnhpbBFEdbb4",
        "outputId": "b653deeb-b9dc-4542-8977-351b42d67f97",
        "colab": {
          "base_uri": "https://localhost:8080/"
        }
      },
      "outputs": [
        {
          "output_type": "stream",
          "name": "stdout",
          "text": [
            "3638.163637117973\n"
          ]
        }
      ],
      "source": [
        "a=np.arange(8)\n",
        "b=a+0.5\n",
        "c=1/np.subtract.outer(a,b)\n",
        "print(np.linalg.det(c))\n"
      ]
    },
    {
      "cell_type": "markdown",
      "metadata": {
        "id": "CuvV-JBMdbb5"
      },
      "source": [
        "####  47. Given two arrays, X and Y, construct the Cauchy matrix C (Cij =1/(xi - yj)) \n",
        "(**hint**: np.subtract.outer)"
      ]
    },
    {
      "cell_type": "code",
      "execution_count": null,
      "metadata": {
        "id": "7OYU_AxPdbb6",
        "outputId": "02731cca-7ae5-44da-de1c-4af8b4d47f04",
        "colab": {
          "base_uri": "https://localhost:8080/"
        }
      },
      "outputs": [
        {
          "output_type": "stream",
          "name": "stdout",
          "text": [
            "3638.163637117973\n"
          ]
        }
      ],
      "source": [
        "X = np.arange(8)\n",
        "Y = X + 0.5\n",
        "C = 1.0 / np.subtract.outer(X, Y)\n",
        "print(np.linalg.det(C))"
      ]
    },
    {
      "cell_type": "markdown",
      "metadata": {
        "id": "s0rXl_YFdbb6"
      },
      "source": [
        "#### 48. Print the minimum and maximum representable value for each numpy scalar type (★★☆) \n",
        "(**hint**: np.iinfo, np.finfo, eps)"
      ]
    },
    {
      "cell_type": "code",
      "execution_count": null,
      "metadata": {
        "id": "5sUoC4E6dbb6",
        "outputId": "cc8ebf25-7047-4454-f572-adfa552e61e9",
        "colab": {
          "base_uri": "https://localhost:8080/"
        }
      },
      "outputs": [
        {
          "output_type": "stream",
          "name": "stdout",
          "text": [
            "-128\n",
            "127\n",
            "-2147483648\n",
            "2147483647\n",
            "-9223372036854775808\n",
            "9223372036854775807\n",
            "-3.4028235e+38\n",
            "3.4028235e+38\n",
            "1.1920929e-07\n",
            "-1.7976931348623157e+308\n",
            "1.7976931348623157e+308\n",
            "2.220446049250313e-16\n"
          ]
        }
      ],
      "source": [
        "for dtype in [np.int8, np.int32, np.int64]:\n",
        "   print(np.iinfo(dtype).min)\n",
        "   print(np.iinfo(dtype).max)\n",
        "for dtype in [np.float32, np.float64]:\n",
        "   print(np.finfo(dtype).min)\n",
        "   print(np.finfo(dtype).max)\n",
        "   print(np.finfo(dtype).eps)"
      ]
    },
    {
      "cell_type": "markdown",
      "metadata": {
        "id": "GuYBUlKEdbb7"
      },
      "source": [
        "#### 49. How to print all the values of an array? (★★☆) \n",
        "(**hint**: np.set\\_printoptions)"
      ]
    },
    {
      "cell_type": "code",
      "execution_count": null,
      "metadata": {
        "id": "KAGXuD2edbb7",
        "outputId": "d006025b-59d9-4bf5-ce28-9e8ebe83bc46",
        "colab": {
          "base_uri": "https://localhost:8080/"
        }
      },
      "outputs": [
        {
          "output_type": "stream",
          "name": "stdout",
          "text": [
            "[[0.25526255 0.50266909 0.51005499 0.73957119 0.43641283 0.03351145\n",
            "  0.04606852 0.46600582 0.2925793  0.20812136 0.41891587 0.86078549\n",
            "  0.06242614 0.98288245 0.18509752 0.95222709 0.91713117 0.84961695\n",
            "  0.56745442 0.90173195 0.4818794  0.49166524 0.87881932 0.16836961\n",
            "  0.40378314]\n",
            " [0.21936615 0.63023651 0.18855645 0.9852741  0.94526805 0.87484884\n",
            "  0.95838543 0.64835986 0.44376038 0.50905766 0.03795133 0.79973673\n",
            "  0.89704145 0.90070812 0.89058974 0.80990511 0.71271879 0.95526155\n",
            "  0.5313711  0.63152709 0.11172652 0.52038911 0.58594193 0.18173891\n",
            "  0.27353126]\n",
            " [0.43549089 0.14673629 0.09516619 0.06268144 0.2990674  0.61549488\n",
            "  0.67731305 0.66805723 0.24577057 0.47497134 0.20019016 0.73549327\n",
            "  0.30888151 0.73101638 0.06375506 0.94171814 0.88126036 0.43479612\n",
            "  0.99997512 0.85353347 0.81990419 0.50585973 0.66271328 0.68844912\n",
            "  0.81597471]\n",
            " [0.70693201 0.34653007 0.60957398 0.74478696 0.59518833 0.8899512\n",
            "  0.00855606 0.73597273 0.92392446 0.46404606 0.47297528 0.43005898\n",
            "  0.42077364 0.18071324 0.29946156 0.37102159 0.97908782 0.27754554\n",
            "  0.98123945 0.81125002 0.40355571 0.75915224 0.34707331 0.04051323\n",
            "  0.81525204]\n",
            " [0.32349729 0.77842446 0.76952178 0.03999089 0.4369546  0.15949979\n",
            "  0.65580177 0.67084564 0.30625069 0.45023193 0.06878539 0.57513097\n",
            "  0.19254874 0.67924126 0.55645674 0.30862922 0.30938327 0.69069015\n",
            "  0.45247956 0.75999864 0.38465632 0.43217487 0.42693095 0.03675992\n",
            "  0.44260757]\n",
            " [0.95105776 0.22085776 0.06280209 0.19700775 0.3538295  0.17785408\n",
            "  0.03076827 0.64447485 0.40241935 0.44839938 0.82849979 0.91832562\n",
            "  0.75015626 0.48818578 0.93359005 0.87926776 0.53961394 0.35066025\n",
            "  0.61119968 0.43195742 0.2764943  0.95727169 0.51645113 0.24084087\n",
            "  0.93325184]\n",
            " [0.3665376  0.07791524 0.57587779 0.43680336 0.22451846 0.70420732\n",
            "  0.58063801 0.1214909  0.89681106 0.1595473  0.98443379 0.17877166\n",
            "  0.41866114 0.36290585 0.79058028 0.6647609  0.08016947 0.6916957\n",
            "  0.68394796 0.7892186  0.45641638 0.65965772 0.30415049 0.51314899\n",
            "  0.14587218]\n",
            " [0.57699163 0.7588192  0.3561569  0.08388009 0.46394788 0.82503571\n",
            "  0.0568983  0.79935291 0.28978288 0.3198112  0.62273291 0.09474227\n",
            "  0.11511546 0.88378099 0.37762337 0.29381785 0.7844667  0.25694901\n",
            "  0.42977986 0.05651167 0.89865062 0.25253989 0.36467112 0.11909783\n",
            "  0.60139157]\n",
            " [0.62874614 0.65936944 0.00317425 0.31484382 0.7962354  0.3375701\n",
            "  0.90609538 0.53243876 0.83641962 0.31671699 0.23039523 0.20472441\n",
            "  0.09118341 0.30744686 0.33030999 0.83769019 0.24475104 0.37550128\n",
            "  0.59705326 0.47998949 0.84519442 0.5745308  0.4105297  0.10524081\n",
            "  0.32655383]\n",
            " [0.70166994 0.98388091 0.33798411 0.32024701 0.90331729 0.56812804\n",
            "  0.30071721 0.69338466 0.83419974 0.20622554 0.54103041 0.64884221\n",
            "  0.48605971 0.16616443 0.16433219 0.4202809  0.26484471 0.26562903\n",
            "  0.90489919 0.69772187 0.5792222  0.55942918 0.38851249 0.04876697\n",
            "  0.87964345]\n",
            " [0.46577213 0.47132431 0.78114442 0.5190924  0.43286374 0.7791753\n",
            "  0.87649746 0.94564565 0.60351716 0.36909207 0.33049216 0.44670853\n",
            "  0.85016669 0.64795386 0.26556972 0.13862995 0.11806226 0.63157534\n",
            "  0.68266011 0.34145069 0.58871978 0.2904087  0.15812807 0.24325758\n",
            "  0.63908317]\n",
            " [0.40133107 0.91727525 0.68669355 0.75461528 0.87405953 0.56943863\n",
            "  0.73999624 0.38227758 0.16598008 0.77918149 0.32214603 0.24519332\n",
            "  0.28345415 0.70697279 0.36695973 0.68139195 0.42160382 0.81139381\n",
            "  0.16636573 0.56086047 0.49922574 0.90613736 0.34790656 0.06804633\n",
            "  0.00720448]\n",
            " [0.7316071  0.51502549 0.90059182 0.12384344 0.75423659 0.55664964\n",
            "  0.32572906 0.40235248 0.58567035 0.60414917 0.38852232 0.67950828\n",
            "  0.99856104 0.1634887  0.53986879 0.03669537 0.20662539 0.10663689\n",
            "  0.46086568 0.57107829 0.50004972 0.57520579 0.62799341 0.99958204\n",
            "  0.5503494 ]\n",
            " [0.54433989 0.23920823 0.71154184 0.85276188 0.99515194 0.65262692\n",
            "  0.76056255 0.53294359 0.93236502 0.33002463 0.62229737 0.97343598\n",
            "  0.44491915 0.95310996 0.4465511  0.90888032 0.83451368 0.35487466\n",
            "  0.85819588 0.07180654 0.16292226 0.30912108 0.1079858  0.01147437\n",
            "  0.96843826]\n",
            " [0.12421859 0.03645956 0.34353961 0.02615    0.10049027 0.84284444\n",
            "  0.72394734 0.37837584 0.99110174 0.56092251 0.63106473 0.58991228\n",
            "  0.45342176 0.88681752 0.66836602 0.34396041 0.50458582 0.19432868\n",
            "  0.67120376 0.48870517 0.27793821 0.49456495 0.94266126 0.73471727\n",
            "  0.92669462]\n",
            " [0.79336668 0.29304807 0.27029202 0.23772839 0.63413389 0.56205608\n",
            "  0.10695099 0.11435344 0.06422381 0.60035117 0.10561732 0.30226181\n",
            "  0.42099183 0.69134778 0.32161767 0.2064287  0.10318345 0.49661779\n",
            "  0.85117165 0.92334833 0.98803859 0.04231423 0.46319624 0.18673278\n",
            "  0.8684165 ]\n",
            " [0.76436004 0.63611096 0.23357709 0.93165291 0.38754486 0.85561547\n",
            "  0.38483107 0.20882192 0.78353927 0.89943398 0.256158   0.54996243\n",
            "  0.66127644 0.22130956 0.44435508 0.88618527 0.7013445  0.04412002\n",
            "  0.71886459 0.45667106 0.27863693 0.18848002 0.44574979 0.1659875\n",
            "  0.07975422]\n",
            " [0.87605885 0.36453467 0.66229072 0.5839634  0.04079481 0.49446274\n",
            "  0.21458203 0.44263374 0.44120792 0.22341768 0.34319897 0.78799481\n",
            "  0.52821966 0.68908017 0.16664188 0.87381827 0.67876886 0.97513844\n",
            "  0.05225227 0.9529079  0.47103178 0.74285786 0.44881039 0.00768426\n",
            "  0.19850474]\n",
            " [0.26751822 0.25330775 0.77206402 0.43458697 0.37538181 0.30631436\n",
            "  0.34620801 0.49712421 0.90446562 0.44791731 0.108985   0.4318315\n",
            "  0.3040273  0.15907162 0.11758887 0.92600312 0.49416098 0.1784052\n",
            "  0.15159663 0.06193731 0.73414973 0.41418301 0.31991815 0.81968262\n",
            "  0.4576961 ]\n",
            " [0.59484762 0.88299253 0.56108204 0.30145223 0.29229593 0.18174449\n",
            "  0.76248539 0.70403223 0.67091564 0.89741445 0.02923907 0.23421585\n",
            "  0.81730696 0.43698255 0.88807513 0.47695149 0.94234082 0.59662071\n",
            "  0.88565915 0.84737509 0.70835198 0.93850856 0.78690343 0.18387351\n",
            "  0.21323486]\n",
            " [0.18485368 0.95256298 0.58525868 0.92777063 0.83968031 0.08833354\n",
            "  0.90904328 0.3966541  0.54663224 0.17102722 0.27044269 0.16586054\n",
            "  0.43970135 0.21522246 0.41730842 0.66240764 0.65197824 0.59852228\n",
            "  0.5401653  0.18301378 0.60550953 0.61264841 0.75072998 0.55322221\n",
            "  0.28037825]\n",
            " [0.92048833 0.71679184 0.69855772 0.69987663 0.06005304 0.70700342\n",
            "  0.71747953 0.94433142 0.89353347 0.39908327 0.30917059 0.62143382\n",
            "  0.14227986 0.77439686 0.4573349  0.54586108 0.19780693 0.84876142\n",
            "  0.37858528 0.44079029 0.88865441 0.45843531 0.10014308 0.81175903\n",
            "  0.94149626]\n",
            " [0.15812193 0.69152431 0.93863325 0.61538376 0.55363639 0.83038669\n",
            "  0.8358795  0.29990917 0.69723449 0.43471554 0.27911116 0.37301936\n",
            "  0.92183727 0.1869526  0.50427673 0.11899476 0.02703876 0.58699831\n",
            "  0.84277156 0.64151635 0.00208143 0.80354687 0.65058454 0.84282231\n",
            "  0.230718  ]\n",
            " [0.47450335 0.68792422 0.8451844  0.92210222 0.9629219  0.33024651\n",
            "  0.9343695  0.40693938 0.12033524 0.68774878 0.83774587 0.19475513\n",
            "  0.91652459 0.7976445  0.26329198 0.24035791 0.1573465  0.58599661\n",
            "  0.47161185 0.25564533 0.43138481 0.99763909 0.32827446 0.91887058\n",
            "  0.95525395]\n",
            " [0.28677171 0.90794076 0.0250309  0.13082429 0.20194715 0.87662489\n",
            "  0.5689682  0.84254046 0.12801236 0.4275383  0.84176032 0.93540592\n",
            "  0.01392782 0.28736078 0.99710908 0.25584575 0.14544603 0.37506009\n",
            "  0.09488059 0.28487978 0.70957322 0.20654883 0.05328139 0.42701324\n",
            "  0.42145784]]\n"
          ]
        }
      ],
      "source": [
        "import sys\n",
        "import numpy as np\n",
        "np.set_printoptions(threshold=sys.maxsize)\n",
        "z=np.random.random((25,25))\n",
        "print(z)"
      ]
    },
    {
      "cell_type": "markdown",
      "metadata": {
        "id": "TkXG3Og3dbb7"
      },
      "source": [
        "#### 50. How to find the closest value (to a given scalar) in a vector? (★★☆) \n",
        "(**hint**: argmin)"
      ]
    },
    {
      "cell_type": "code",
      "execution_count": null,
      "metadata": {
        "id": "gVzEO9jMdbb8",
        "outputId": "22f649a8-f6bc-479b-8217-75952acb3b30",
        "colab": {
          "base_uri": "https://localhost:8080/"
        }
      },
      "outputs": [
        {
          "output_type": "stream",
          "name": "stdout",
          "text": [
            "58\n"
          ]
        }
      ],
      "source": [
        "\n",
        "a = np.arange(100)\n",
        "b = np.random.uniform(0,100)\n",
        "index = (np.abs(a-b)).argmin()\n",
        "print(a[index])"
      ]
    },
    {
      "cell_type": "markdown",
      "metadata": {
        "id": "LgwzeRNfdbb8"
      },
      "source": [
        "#### 51. Create a structured array representing a position (x,y) and a color (r,g,b) (★★☆) \n",
        "(**hint**: dtype)"
      ]
    },
    {
      "cell_type": "code",
      "execution_count": null,
      "metadata": {
        "id": "dEVH0WYidbb9",
        "outputId": "a09a03af-b691-41c2-85bc-ac360a7be85c",
        "colab": {
          "base_uri": "https://localhost:8080/"
        }
      },
      "outputs": [
        {
          "output_type": "stream",
          "name": "stdout",
          "text": [
            "[((0., 0.), (0., 0., 0.)) ((0., 0.), (0., 0., 0.))\n",
            " ((0., 0.), (0., 0., 0.)) ((0., 0.), (0., 0., 0.))\n",
            " ((0., 0.), (0., 0., 0.)) ((0., 0.), (0., 0., 0.))\n",
            " ((0., 0.), (0., 0., 0.)) ((0., 0.), (0., 0., 0.))\n",
            " ((0., 0.), (0., 0., 0.)) ((0., 0.), (0., 0., 0.))]\n"
          ]
        },
        {
          "output_type": "stream",
          "name": "stderr",
          "text": [
            "/usr/local/lib/python3.7/dist-packages/ipykernel_launcher.py:5: FutureWarning: Passing (type, 1) or '1type' as a synonym of type is deprecated; in a future version of numpy, it will be understood as (type, (1,)) / '(1,)type'.\n",
            "  \"\"\"\n"
          ]
        }
      ],
      "source": [
        "Z = np.zeros(10, [ ('position', [ ('x', float, 1),\n",
        "                                  ('y', float, 1)]),\n",
        "                   ('color',    [ ('r', float, 1),\n",
        "                                  ('g', float, 1),\n",
        "                                  ('b', float, 1)])])\n",
        "print(Z)"
      ]
    },
    {
      "cell_type": "markdown",
      "metadata": {
        "id": "SYnkCC2adbb-"
      },
      "source": [
        "#### 52. Consider a random vector with shape (100,2) representing coordinates, find point by point distances (★★☆) \n",
        "(**hint**: np.atleast\\_2d, T, np.sqrt)"
      ]
    },
    {
      "cell_type": "code",
      "execution_count": null,
      "metadata": {
        "id": "JaoRnwpbdbb_",
        "outputId": "909133d3-c7f8-42a1-e0c6-3dc256ca5dc7",
        "colab": {
          "base_uri": "https://localhost:8080/"
        }
      },
      "outputs": [
        {
          "output_type": "stream",
          "name": "stdout",
          "text": [
            "[[0.         1.04235768 0.81679274 0.83226007 0.41964729 0.62291469\n",
            "  0.40505905 1.06333493 0.53483374 0.7223094 ]\n",
            " [1.04235768 0.         0.22706173 0.2130596  0.68560783 0.49558583\n",
            "  0.68256264 0.23293107 0.56337515 0.38390354]\n",
            " [0.81679274 0.22706173 0.         0.05673882 0.4802511  0.31912795\n",
            "  0.45791705 0.30479159 0.34457935 0.22951573]\n",
            " [0.83226007 0.2130596  0.05673882 0.         0.4745209  0.29568639\n",
            "  0.49002072 0.33517792 0.38439383 0.19427203]\n",
            " [0.41964729 0.68560783 0.4802511  0.4745209  0.         0.21064706\n",
            "  0.32735291 0.77502651 0.37244997 0.32058273]\n",
            " [0.62291469 0.49558583 0.31912795 0.29568639 0.21064706 0.\n",
            "  0.41057182 0.62388786 0.38328513 0.11427979]\n",
            " [0.40505905 0.68256264 0.45791705 0.49002072 0.32735291 0.41057182\n",
            "  0.         0.66633696 0.13179429 0.45902732]\n",
            " [1.06333493 0.23293107 0.30479159 0.33517792 0.77502651 0.62388786\n",
            "  0.66633696 0.         0.53476029 0.52907527]\n",
            " [0.53483374 0.56337515 0.34457935 0.38439383 0.37244997 0.38328513\n",
            "  0.13179429 0.53476029 0.         0.39870454]\n",
            " [0.7223094  0.38390354 0.22951573 0.19427203 0.32058273 0.11427979\n",
            "  0.45902732 0.52907527 0.39870454 0.        ]]\n"
          ]
        }
      ],
      "source": [
        "import scipy.spatial\n",
        "z=np.random.random((10,2))\n",
        "d=scipy.spatial.distance.cdist(z,z)\n",
        "print(d)"
      ]
    },
    {
      "cell_type": "markdown",
      "metadata": {
        "id": "Etcrd-Oudbb_"
      },
      "source": [
        "#### 53. How to convert a float (32 bits) array into an integer (32 bits) in place? \n",
        "(**hint**: astype(copy=False))"
      ]
    },
    {
      "cell_type": "code",
      "execution_count": null,
      "metadata": {
        "id": "EA7Sc8lIdbcA",
        "outputId": "3e7a6dc2-646a-42bb-a95a-f089092b1a39",
        "colab": {
          "base_uri": "https://localhost:8080/"
        }
      },
      "outputs": [
        {
          "output_type": "execute_result",
          "data": {
            "text/plain": [
              "array([0., 1., 2., 3., 4., 5., 6., 7., 8., 9.], dtype=float32)"
            ]
          },
          "metadata": {},
          "execution_count": 12
        }
      ],
      "source": [
        "a=np.arange(10,dtype=np.int32)\n",
        "a=a.astype(np.float32,copy=False)\n",
        "a"
      ]
    },
    {
      "cell_type": "markdown",
      "metadata": {
        "id": "v9R2yKOBdbcA"
      },
      "source": [
        "#### 54. How to read the following file? (★★☆) \n",
        "(**hint**: np.genfromtxt)"
      ]
    },
    {
      "cell_type": "markdown",
      "metadata": {
        "id": "N5NAisu_dbcA"
      },
      "source": [
        "```\n",
        "1, 2, 3, 4, 5\n",
        "6,  ,  , 7, 8\n",
        " ,  , 9,10,11\n",
        "```"
      ]
    },
    {
      "cell_type": "code",
      "execution_count": null,
      "metadata": {
        "id": "as_RzJVvdbcA",
        "outputId": "ea2572fc-56e8-4126-c39e-fd3be1d77ccc",
        "colab": {
          "base_uri": "https://localhost:8080/"
        }
      },
      "outputs": [
        {
          "output_type": "stream",
          "name": "stdout",
          "text": [
            "[[ 1  2  3  4  5]\n",
            " [ 6 -1 -1  7  8]\n",
            " [-1 -1  9 10 11]]\n"
          ]
        },
        {
          "output_type": "stream",
          "name": "stderr",
          "text": [
            "/usr/local/lib/python3.7/dist-packages/ipykernel_launcher.py:8: DeprecationWarning: `np.int` is a deprecated alias for the builtin `int`. To silence this warning, use `int` by itself. Doing this will not modify any behavior and is safe. When replacing `np.int`, you may wish to use e.g. `np.int64` or `np.int32` to specify the precision. If you wish to review your current use, check the release note link for additional information.\n",
            "Deprecated in NumPy 1.20; for more details and guidance: https://numpy.org/devdocs/release/1.20.0-notes.html#deprecations\n",
            "  \n"
          ]
        }
      ],
      "source": [
        "from io import StringIO\n",
        "s = StringIO('''1, 2, 3, 4, 5\n",
        "                6,  ,  , 7, 8\n",
        "                 ,  , 9,10,11\n",
        "''')\n",
        "Z = np.genfromtxt(s, delimiter=\",\", dtype=np.int)\n",
        "print(Z)"
      ]
    },
    {
      "cell_type": "markdown",
      "metadata": {
        "id": "fv6k-FNvdbcB"
      },
      "source": [
        "#### 55. What is the equivalent of enumerate for numpy arrays? (★★☆) \n",
        "(**hint**: np.ndenumerate, np.ndindex)"
      ]
    },
    {
      "cell_type": "code",
      "execution_count": null,
      "metadata": {
        "id": "kQh1SW1gdbcB",
        "outputId": "9f98816f-1c7f-4068-b0a3-1985ec73e1e2",
        "colab": {
          "base_uri": "https://localhost:8080/"
        }
      },
      "outputs": [
        {
          "output_type": "stream",
          "name": "stdout",
          "text": [
            "(0, 0) 0\n",
            "(0, 1) 1\n",
            "(0, 2) 2\n",
            "(1, 0) 3\n",
            "(1, 1) 4\n",
            "(1, 2) 5\n",
            "(2, 0) 6\n",
            "(2, 1) 7\n",
            "(2, 2) 8\n",
            "(0, 0) 0\n",
            "(0, 1) 1\n",
            "(0, 2) 2\n",
            "(1, 0) 3\n",
            "(1, 1) 4\n",
            "(1, 2) 5\n",
            "(2, 0) 6\n",
            "(2, 1) 7\n",
            "(2, 2) 8\n"
          ]
        }
      ],
      "source": [
        "Z = np.arange(9).reshape(3,3)\n",
        "for index, value in np.ndenumerate(Z):\n",
        "    print(index, value)\n",
        "for index in np.ndindex(Z.shape):\n",
        "    print(index, Z[index])"
      ]
    },
    {
      "cell_type": "markdown",
      "metadata": {
        "id": "7XkLwA2_dbcB"
      },
      "source": [
        "#### 56. Generate a generic 2D Gaussian-like array (★★☆) \n",
        "(**hint**: np.meshgrid, np.exp)"
      ]
    },
    {
      "cell_type": "code",
      "execution_count": null,
      "metadata": {
        "id": "3TMb7bpqdbcC",
        "outputId": "5fcac3f2-b206-4931-bdf7-8fbe9f84b076",
        "colab": {
          "base_uri": "https://localhost:8080/"
        }
      },
      "outputs": [
        {
          "output_type": "stream",
          "name": "stdout",
          "text": [
            "[[0.36787944 0.44822088 0.51979489 0.57375342 0.60279818 0.60279818\n",
            "  0.57375342 0.51979489 0.44822088 0.36787944]\n",
            " [0.44822088 0.54610814 0.63331324 0.69905581 0.73444367 0.73444367\n",
            "  0.69905581 0.63331324 0.54610814 0.44822088]\n",
            " [0.51979489 0.63331324 0.73444367 0.81068432 0.85172308 0.85172308\n",
            "  0.81068432 0.73444367 0.63331324 0.51979489]\n",
            " [0.57375342 0.69905581 0.81068432 0.89483932 0.9401382  0.9401382\n",
            "  0.89483932 0.81068432 0.69905581 0.57375342]\n",
            " [0.60279818 0.73444367 0.85172308 0.9401382  0.98773022 0.98773022\n",
            "  0.9401382  0.85172308 0.73444367 0.60279818]\n",
            " [0.60279818 0.73444367 0.85172308 0.9401382  0.98773022 0.98773022\n",
            "  0.9401382  0.85172308 0.73444367 0.60279818]\n",
            " [0.57375342 0.69905581 0.81068432 0.89483932 0.9401382  0.9401382\n",
            "  0.89483932 0.81068432 0.69905581 0.57375342]\n",
            " [0.51979489 0.63331324 0.73444367 0.81068432 0.85172308 0.85172308\n",
            "  0.81068432 0.73444367 0.63331324 0.51979489]\n",
            " [0.44822088 0.54610814 0.63331324 0.69905581 0.73444367 0.73444367\n",
            "  0.69905581 0.63331324 0.54610814 0.44822088]\n",
            " [0.36787944 0.44822088 0.51979489 0.57375342 0.60279818 0.60279818\n",
            "  0.57375342 0.51979489 0.44822088 0.36787944]]\n"
          ]
        }
      ],
      "source": [
        "a,b=np.meshgrid((np.linspace(-1,1,10)),np.linspace(-1,1,10))\n",
        "c = np.sqrt(a*a+b*b)\n",
        "sigma, mu = 1.0, 0.0\n",
        "g= np.exp(-( (c-mu)**2 / ( 2.0 * sigma**2 ) ) )\n",
        "print(g)"
      ]
    },
    {
      "cell_type": "markdown",
      "metadata": {
        "id": "6sg2zDV7dbcC"
      },
      "source": [
        "#### 57. How to randomly place p elements in a 2D array? (★★☆) \n",
        "(**hint**: np.put, np.random.choice)"
      ]
    },
    {
      "cell_type": "code",
      "execution_count": null,
      "metadata": {
        "id": "RB7VfU6gdbcC",
        "outputId": "213a1a24-fccf-4c86-fcd5-ef22e8602f84",
        "colab": {
          "base_uri": "https://localhost:8080/"
        }
      },
      "outputs": [
        {
          "output_type": "stream",
          "name": "stdout",
          "text": [
            "[[0. 0. 0. 0. 0. 0. 0. 0. 0. 0.]\n",
            " [0. 0. 0. 0. 0. 0. 0. 0. 0. 0.]\n",
            " [0. 0. 0. 0. 0. 0. 0. 0. 0. 0.]\n",
            " [0. 0. 0. 3. 0. 0. 0. 0. 0. 0.]\n",
            " [0. 0. 0. 0. 0. 0. 0. 0. 0. 0.]\n",
            " [0. 0. 0. 0. 0. 0. 0. 0. 0. 0.]\n",
            " [0. 0. 0. 0. 0. 0. 0. 0. 0. 0.]\n",
            " [0. 0. 3. 0. 0. 0. 0. 0. 3. 0.]\n",
            " [0. 0. 0. 0. 0. 0. 0. 0. 0. 0.]\n",
            " [0. 0. 0. 0. 0. 0. 0. 0. 0. 0.]]\n"
          ]
        }
      ],
      "source": [
        "n = 10\n",
        "p = 3\n",
        "Z = np.zeros((n,n))\n",
        "np.put(Z, np.random.choice(range(n*n), p, replace=False),p)\n",
        "print (Z)"
      ]
    },
    {
      "cell_type": "markdown",
      "metadata": {
        "id": "2BV6c_mTdbcD"
      },
      "source": [
        "#### 58. Subtract the mean of each row of a matrix (★★☆) \n",
        "(**hint**: mean(axis=,keepdims=))"
      ]
    },
    {
      "cell_type": "code",
      "execution_count": null,
      "metadata": {
        "id": "8OWcnHHqdbcD",
        "outputId": "d99b1ec8-2a11-41f4-ddc8-89fcb4ed14d2",
        "colab": {
          "base_uri": "https://localhost:8080/"
        }
      },
      "outputs": [
        {
          "output_type": "execute_result",
          "data": {
            "text/plain": [
              "array([[-0.36507256, -0.1792072 ,  0.0578575 ,  0.20317016,  0.11784111,\n",
              "         0.26096077, -0.11998009, -0.05050286, -0.22888172,  0.30381489],\n",
              "       [ 0.15747396,  0.20772704, -0.2415197 ,  0.01856352,  0.11195706,\n",
              "        -0.41341001, -0.15053181,  0.05187275,  0.27968091, -0.02181373]])"
            ]
          },
          "metadata": {},
          "execution_count": 22
        }
      ],
      "source": [
        "A=np.random.random((2,10))\n",
        "B=A-A.mean(axis=1,keepdims=True)\n",
        "B"
      ]
    },
    {
      "cell_type": "markdown",
      "metadata": {
        "id": "tqhEhBAddbcE"
      },
      "source": [
        "#### 59. How to sort an array by the nth column? (★★☆) \n",
        "(**hint**: argsort)"
      ]
    },
    {
      "cell_type": "code",
      "execution_count": null,
      "metadata": {
        "id": "ZVPiLRTSdbcF",
        "outputId": "948ff68b-e511-4930-9d66-244d08e1d4df",
        "colab": {
          "base_uri": "https://localhost:8080/"
        }
      },
      "outputs": [
        {
          "output_type": "stream",
          "name": "stdout",
          "text": [
            "[[6 7 4 2 9 9 0 6 4 6]\n",
            " [7 3 2 9 0 3 8 8 4 1]\n",
            " [3 9 5 7 4 5 1 2 8 1]\n",
            " [6 9 3 5 4 2 2 0 5 5]\n",
            " [0 2 8 7 0 9 0 1 0 5]]\n",
            "[[7 3 2 9 0 3 8 8 4 1]\n",
            " [0 2 8 7 0 9 0 1 0 5]\n",
            " [3 9 5 7 4 5 1 2 8 1]\n",
            " [6 9 3 5 4 2 2 0 5 5]\n",
            " [6 7 4 2 9 9 0 6 4 6]]\n"
          ]
        }
      ],
      "source": [
        "a=np.random.randint(0,10,(5,10))\n",
        "print(a)\n",
        "print(a[a[:,4].argsort()])\n"
      ]
    },
    {
      "cell_type": "markdown",
      "metadata": {
        "id": "A-lD0TZfdbcF"
      },
      "source": [
        "#### 60. How to tell if a given 2D array has null columns? (★★☆) \n",
        "(**hint**: any, ~)"
      ]
    },
    {
      "cell_type": "code",
      "execution_count": null,
      "metadata": {
        "id": "lrDf-cdxdbcG",
        "outputId": "422cd7ce-34ed-4c79-f0f2-4ef122340204",
        "colab": {
          "base_uri": "https://localhost:8080/"
        }
      },
      "outputs": [
        {
          "output_type": "stream",
          "name": "stdout",
          "text": [
            "False\n"
          ]
        }
      ],
      "source": [
        "import numpy as np\n",
        "X=np.random.randint(0,12,(5,2))\n",
        "print((~X.any(axis=0)).any())"
      ]
    },
    {
      "cell_type": "markdown",
      "metadata": {
        "id": "amoHNAAHdbcG"
      },
      "source": [
        "#### 61. Find the nearest value from a given value in an array (★★☆) \n",
        "(**hint**: np.abs, argmin, flat)"
      ]
    },
    {
      "cell_type": "code",
      "execution_count": null,
      "metadata": {
        "id": "EXYAN02ZdbcH",
        "outputId": "726ac08c-df34-46b5-f72a-0e12cd297c5d",
        "colab": {
          "base_uri": "https://localhost:8080/"
        }
      },
      "outputs": [
        {
          "output_type": "execute_result",
          "data": {
            "text/plain": [
              "0.7494478401309992"
            ]
          },
          "metadata": {},
          "execution_count": 10
        }
      ],
      "source": [
        "a=np.random.uniform(0,1,20)\n",
        "b=0.7\n",
        "c=a.flat[np.abs(a-b).argmin()]\n",
        "c"
      ]
    },
    {
      "cell_type": "markdown",
      "metadata": {
        "id": "Rupvi8rhdbcI"
      },
      "source": [
        "#### 62. Considering two arrays with shape (1,3) and (3,1), how to compute their sum using an iterator? (★★☆) \n",
        "(**hint**: np.nditer)"
      ]
    },
    {
      "cell_type": "code",
      "execution_count": null,
      "metadata": {
        "id": "rcuEJEZ8dbcI",
        "outputId": "832d1734-9dd2-4edb-8f15-27ad99719ed5",
        "colab": {
          "base_uri": "https://localhost:8080/"
        }
      },
      "outputs": [
        {
          "output_type": "stream",
          "name": "stdout",
          "text": [
            "[[0 1 2]\n",
            " [1 2 3]\n",
            " [2 3 4]]\n"
          ]
        }
      ],
      "source": [
        "a= np.arange(3).reshape(3,1)\n",
        "b= np.arange(3).reshape(1,3)\n",
        "it = np.nditer([a,b,None])\n",
        "for x,y,z in it: z[...] = x + y\n",
        "print(it.operands[2])"
      ]
    },
    {
      "cell_type": "markdown",
      "metadata": {
        "id": "f4mIf2RJdbcJ"
      },
      "source": [
        "#### 63. Create an array class that has a name attribute (★★☆) \n",
        "(**hint**: class method)"
      ]
    },
    {
      "cell_type": "code",
      "execution_count": null,
      "metadata": {
        "id": "MKd4YboFdbcJ",
        "outputId": "6a245b4c-e3f7-458c-aac2-0bb0b710fe59",
        "colab": {
          "base_uri": "https://localhost:8080/"
        }
      },
      "outputs": [
        {
          "output_type": "stream",
          "name": "stdout",
          "text": [
            "range_10\n"
          ]
        }
      ],
      "source": [
        "class NamedArray(np.ndarray):\n",
        "    def __new__(cls, array, name=\"no name\"):\n",
        "        obj = np.asarray(array).view(cls)\n",
        "        obj.name = name\n",
        "        return obj\n",
        "    def __array_finalize__(self, obj):\n",
        "        if obj is None: return\n",
        "        self.info = getattr(obj, 'name', \"no name\")\n",
        "\n",
        "Z = NamedArray(np.arange(10), \"range_10\")\n",
        "print (Z.name)"
      ]
    },
    {
      "cell_type": "markdown",
      "metadata": {
        "id": "kbjqyz9FdbcK"
      },
      "source": [
        "#### 64. Consider a given vector, how to add 1 to each element indexed by a second vector (be careful with repeated indices)? (★★★) \n",
        "(**hint**: np.bincount | np.add.at)"
      ]
    },
    {
      "cell_type": "code",
      "execution_count": null,
      "metadata": {
        "id": "Wq1Y6s7idbcK",
        "outputId": "6ed53c23-606f-4da2-d5e2-e06f867a5944",
        "colab": {
          "base_uri": "https://localhost:8080/"
        }
      },
      "outputs": [
        {
          "output_type": "stream",
          "name": "stdout",
          "text": [
            "[3. 4. 5. 2. 3. 5. 3. 2. 1. 2.]\n"
          ]
        }
      ],
      "source": [
        "Z = np.ones(10)\n",
        "I = np.random.randint(0,len(Z),20)\n",
        "np.add.at(Z, I, 1)\n",
        "print(Z)"
      ]
    },
    {
      "cell_type": "markdown",
      "metadata": {
        "id": "XWCw_7zedbcL"
      },
      "source": [
        "#### 65. How to accumulate elements of a vector (X) to an array (F) based on an index list (I)? (★★★) \n",
        "(**hint**: np.bincount)"
      ]
    },
    {
      "cell_type": "code",
      "execution_count": null,
      "metadata": {
        "id": "TYB4nl1vdbcM",
        "outputId": "0bcbbad9-4ca0-480c-9f2a-9bbc5be915a3",
        "colab": {
          "base_uri": "https://localhost:8080/"
        }
      },
      "outputs": [
        {
          "output_type": "stream",
          "name": "stdout",
          "text": [
            "[0. 7. 0. 6. 5. 0. 0. 0. 0. 3.]\n"
          ]
        }
      ],
      "source": [
        "X = [1,2,3,4,5,6]\n",
        "I = [1,3,9,3,4,1]\n",
        "F = np.bincount(I,X)\n",
        "print(F)"
      ]
    },
    {
      "cell_type": "markdown",
      "metadata": {
        "id": "re1zaWw2dbcM"
      },
      "source": [
        "#### 66. Considering a (w,h,3) image of (dtype=ubyte), compute the number of unique colors (★★★) \n",
        "(**hint**: np.unique)"
      ]
    },
    {
      "cell_type": "code",
      "execution_count": null,
      "metadata": {
        "id": "mRuW4T4CdbcN"
      },
      "outputs": [],
      "source": [
        "w, h = 256, 256\n",
        "I = np.random.randint(0, 4, (h, w, 3)).astype(np.ubyte)\n",
        "colors = np.unique(I.reshape(-1, 3), axis=0)\n",
        "n = len(colors)\n",
        "print(n)"
      ]
    },
    {
      "cell_type": "markdown",
      "metadata": {
        "id": "Q-1QtG3ZdbcP"
      },
      "source": [
        "#### 67. Considering a four dimensions array, how to get sum over the last two axis at once? (★★★) \n",
        "(**hint**: sum(axis=(-2,-1)))"
      ]
    },
    {
      "cell_type": "code",
      "execution_count": null,
      "metadata": {
        "id": "mWHgvYTjdbcQ"
      },
      "outputs": [],
      "source": [
        "A = np.random.randint(0,10,(3,4,3,4))\n",
        "\n",
        "sum = A.sum(axis=(-2,-1))\n",
        "print(sum)\n",
        "\n",
        "sum = A.reshape(A.shape[:-2] + (-1,)).sum(axis=-1)\n",
        "print(sum)"
      ]
    },
    {
      "cell_type": "markdown",
      "metadata": {
        "id": "V7Ic3VvfdbcR"
      },
      "source": [
        "#### 68. Considering a one-dimensional vector D, how to compute means of subsets of D using a vector S of same size describing subset  indices? (★★★) \n",
        "(**hint**: np.bincount)"
      ]
    },
    {
      "cell_type": "code",
      "execution_count": null,
      "metadata": {
        "id": "gaoYo54AdbcR"
      },
      "outputs": [],
      "source": [
        "D = np.random.uniform(0,1,100)\n",
        "S = np.random.randint(0,10,100)\n",
        "D_sums = np.bincount(S, weights=D)\n",
        "D_counts = np.bincount(S)\n",
        "D_means = D_sums / D_counts\n",
        "print(D_means)\n",
        "import pandas as pd\n",
        "print(pd.Series(D).groupby(S).mean())"
      ]
    },
    {
      "cell_type": "markdown",
      "metadata": {
        "id": "E5BT-K-VdbcS"
      },
      "source": [
        "#### 69. How to get the diagonal of a dot product? (★★★) \n",
        "(**hint**: np.diag)"
      ]
    },
    {
      "cell_type": "code",
      "execution_count": null,
      "metadata": {
        "id": "w71NdL5FdbcU"
      },
      "outputs": [],
      "source": [
        "\n",
        "A = np.random.uniform(0,1,(5,5))\n",
        "B = np.random.uniform(0,1,(5,5))\n",
        "\n",
        "\n",
        "np.diag(np.dot(A, B))"
      ]
    },
    {
      "cell_type": "markdown",
      "metadata": {
        "id": "JBhTeTSodbcU"
      },
      "source": [
        "#### 70. Consider the vector \\[1, 2, 3, 4, 5\\], how to build a new vector with 3 consecutive zeros interleaved between each value? (★★★) \n",
        "(**hint**: array\\[::4\\])"
      ]
    },
    {
      "cell_type": "code",
      "execution_count": null,
      "metadata": {
        "id": "mQkUeHnldbcV"
      },
      "outputs": [],
      "source": [
        "\n",
        "Z = np.array([1,2,3,4,5])\n",
        "nz = 3\n",
        "Z0 = np.zeros(len(Z) + (len(Z)-1)*(nz))\n",
        "Z0[::nz+1] = Z\n",
        "print(Z0)"
      ]
    },
    {
      "cell_type": "markdown",
      "metadata": {
        "id": "l8VmMzzqdbcW"
      },
      "source": [
        "#### 71. Consider an array of dimension (5,5,3), how to mulitply it by an array with dimensions (5,5)? (★★★) \n",
        "(**hint**: array\\[:, :, None\\])"
      ]
    },
    {
      "cell_type": "code",
      "execution_count": null,
      "metadata": {
        "collapsed": true,
        "id": "zxbjnyWldbcX"
      },
      "outputs": [],
      "source": [
        "```python\n",
        "A = np.ones((5,5,3))\n",
        "B = 2*np.ones((5,5))\n",
        "print(A * B[:,:,None])"
      ]
    },
    {
      "cell_type": "markdown",
      "metadata": {
        "id": "ktbnYfBDdbcX"
      },
      "source": [
        "#### 72. How to swap two rows of an array? (★★★) \n",
        "(**hint**: array\\[\\[\\]\\] = array\\[\\[\\]\\])"
      ]
    },
    {
      "cell_type": "code",
      "execution_count": null,
      "metadata": {
        "id": "nF3rtd_udbcY"
      },
      "outputs": [],
      "source": [
        "A = np.arange(25).reshape(5,5)\n",
        "A[[0,1]] = A[[1,0]]\n",
        "print(A)"
      ]
    },
    {
      "cell_type": "markdown",
      "metadata": {
        "id": "Tkhbl2BJdbcZ"
      },
      "source": [
        "#### 73. Consider a set of 10 triplets describing 10 triangles (with shared vertices), find the set of unique line segments composing all the  triangles (★★★) \n",
        "(**hint**: repeat, np.roll, np.sort, view, np.unique)"
      ]
    },
    {
      "cell_type": "code",
      "execution_count": null,
      "metadata": {
        "id": "7zD5Q2X9dbca"
      },
      "outputs": [],
      "source": [
        "\n",
        "faces = np.random.randint(0,100,(10,3))\n",
        "F = np.roll(faces.repeat(2,axis=1),-1,axis=1)\n",
        "F = F.reshape(len(F)*3,2)\n",
        "F = np.sort(F,axis=1)\n",
        "G = F.view( dtype=[('p0',F.dtype),('p1',F.dtype)] )\n",
        "G = np.unique(G)\n",
        "print(G)"
      ]
    },
    {
      "cell_type": "markdown",
      "metadata": {
        "id": "npDIJCApdbcb"
      },
      "source": [
        "#### 74. Given an array C that is a bincount, how to produce an array A such that np.bincount(A) == C? (★★★) \n",
        "(**hint**: np.repeat)"
      ]
    },
    {
      "cell_type": "code",
      "execution_count": null,
      "metadata": {
        "id": "n7RKKCLUdbcc"
      },
      "outputs": [],
      "source": [
        "C = np.bincount([1,1,2,3,4,4,6])\n",
        "A = np.repeat(np.arange(len(C)), C)\n",
        "print(A)"
      ]
    },
    {
      "cell_type": "markdown",
      "metadata": {
        "id": "aFzFOyGqdbci"
      },
      "source": [
        "#### 75. How to compute averages using a sliding window over an array? (★★★) \n",
        "(**hint**: np.cumsum)"
      ]
    },
    {
      "cell_type": "code",
      "execution_count": null,
      "metadata": {
        "id": "BIBjvxgQdbci"
      },
      "outputs": [],
      "source": [
        "\n",
        "\n",
        "def moving_average(a, n=3) :\n",
        "    ret = np.cumsum(a, dtype=float)\n",
        "    ret[n:] = ret[n:] - ret[:-n]\n",
        "    return ret[n - 1:] / n\n",
        "Z = np.arange(20)\n",
        "print(moving_average(Z, n=3))\n",
        "\n",
        "\n",
        "\n",
        "from numpy.lib.stride_tricks import sliding_window_view\n",
        "\n",
        "Z = np.arange(20)\n",
        "print(sliding_window_view(Z, window_shape=3).mean(axis=-1))"
      ]
    },
    {
      "cell_type": "markdown",
      "metadata": {
        "id": "lCoTvYbLdbcj"
      },
      "source": [
        "#### 76. Consider a one-dimensional array Z, build a two-dimensional array whose first row is (Z\\[0\\],Z\\[1\\],Z\\[2\\]) and each subsequent row is  shifted by 1 (last row should be (Z\\[-3\\],Z\\[-2\\],Z\\[-1\\]) (★★★) \n",
        "(**hint**: from numpy.lib import stride_tricks)"
      ]
    },
    {
      "cell_type": "code",
      "execution_count": null,
      "metadata": {
        "id": "H4f1nfNMdbcq"
      },
      "outputs": [],
      "source": [
        "from numpy.lib import stride_tricks\n",
        "\n",
        "def rolling(a, window):\n",
        "    shape = (a.size - window + 1, window)\n",
        "    strides = (a.strides[0], a.strides[0])\n",
        "    return stride_tricks.as_strided(a, shape=shape, strides=strides)\n",
        "Z = rolling(np.arange(10), 3)\n",
        "print(Z)\n",
        "\n",
        "# Author: Jeff Luo (@Jeff1999)\n",
        "\n",
        "Z = np.arange(10)\n",
        "print(sliding_window_view(Z, window_shape=3))"
      ]
    },
    {
      "cell_type": "markdown",
      "metadata": {
        "id": "p7eRbcgBdbcr"
      },
      "source": [
        "#### 77. How to negate a boolean, or to change the sign of a float inplace? (★★★) \n",
        "(**hint**: np.logical_not, np.negative)"
      ]
    },
    {
      "cell_type": "code",
      "execution_count": null,
      "metadata": {
        "id": "wVjgrQYGdbcs"
      },
      "outputs": [],
      "source": [
        "\n",
        "Z = np.random.randint(0,2,100)\n",
        "np.logical_not(Z, out=Z)\n",
        "\n",
        "Z = np.random.uniform(-1.0,1.0,100)\n",
        "np.negative(Z, out=Z)"
      ]
    },
    {
      "cell_type": "markdown",
      "metadata": {
        "id": "lU-_Ymhjdbct"
      },
      "source": [
        "#### 78. Consider 2 sets of points P0,P1 describing lines (2d) and a point p, how to compute distance from p to each line i  (P0\\[i\\],P1\\[i\\])? (★★★)"
      ]
    },
    {
      "cell_type": "code",
      "execution_count": null,
      "metadata": {
        "id": "7t0T-Qg8dbct"
      },
      "outputs": [],
      "source": [
        "def distance(P0, P1, p):\n",
        "    T = P1 - P0\n",
        "    L = (T**2).sum(axis=1)\n",
        "    U = -((P0[:,0]-p[...,0])*T[:,0] + (P0[:,1]-p[...,1])*T[:,1]) / L\n",
        "    U = U.reshape(len(U),1)\n",
        "    D = P0 + U*T - p\n",
        "    return np.sqrt((D**2).sum(axis=1))\n",
        "\n",
        "P0 = np.random.uniform(-10,10,(10,2))\n",
        "P1 = np.random.uniform(-10,10,(10,2))\n",
        "p  = np.random.uniform(-10,10,( 1,2))\n",
        "print(distance(P0, P1, p))"
      ]
    },
    {
      "cell_type": "markdown",
      "metadata": {
        "id": "4kekXHXLdbcv"
      },
      "source": [
        "#### 79. Consider 2 sets of points P0,P1 describing lines (2d) and a set of points P, how to compute distance from each point j (P\\[j\\]) to each line i (P0\\[i\\],P1\\[i\\])? (★★★)"
      ]
    },
    {
      "cell_type": "code",
      "execution_count": null,
      "metadata": {
        "id": "i34w2BXJdbcv"
      },
      "outputs": [],
      "source": [
        "P0 = np.random.uniform(-10, 10, (10,2))\n",
        "P1 = np.random.uniform(-10,10,(10,2))\n",
        "p = np.random.uniform(-10, 10, (10,2))\n",
        "print(np.array([distance(P0,P1,p_i) for p_i in p]))"
      ]
    },
    {
      "cell_type": "markdown",
      "metadata": {
        "id": "dtiAB-8ddbcw"
      },
      "source": [
        "#### 80. Consider an arbitrary array, write a function that extract a subpart with a fixed shape and centered on a given element (pad with a `fill` value when necessary) (★★★) \n",
        "(**hint**: minimum, maximum)"
      ]
    },
    {
      "cell_type": "code",
      "execution_count": 4,
      "metadata": {
        "id": "9HquvAzodbcw",
        "colab": {
          "base_uri": "https://localhost:8080/"
        },
        "outputId": "ba9022c8-25d9-4529-b4fd-492932c4d43f"
      },
      "outputs": [
        {
          "output_type": "stream",
          "name": "stdout",
          "text": [
            "[[7 7 8 3 3 8 8 4 5 6]\n",
            " [4 2 1 7 1 9 8 0 2 2]\n",
            " [7 3 5 7 0 7 2 5 5 9]\n",
            " [0 3 8 0 7 8 7 5 6 6]\n",
            " [3 9 5 9 1 9 4 0 1 8]\n",
            " [3 4 4 4 0 1 7 5 3 6]\n",
            " [5 9 4 4 6 1 5 2 7 5]\n",
            " [2 7 6 8 8 7 6 4 1 3]\n",
            " [8 1 2 7 4 1 6 8 1 3]\n",
            " [7 1 0 9 8 9 7 8 4 2]]\n",
            "[[0 0 0 0 0]\n",
            " [0 7 7 8 3]\n",
            " [0 4 2 1 7]\n",
            " [0 7 3 5 7]\n",
            " [0 0 3 8 0]]\n"
          ]
        },
        {
          "output_type": "stream",
          "name": "stderr",
          "text": [
            "/usr/local/lib/python3.7/dist-packages/ipykernel_launcher.py:23: FutureWarning: Using a non-tuple sequence for multidimensional indexing is deprecated; use `arr[tuple(seq)]` instead of `arr[seq]`. In the future this will be interpreted as an array index, `arr[np.array(seq)]`, which will result either in an error or a different result.\n"
          ]
        }
      ],
      "source": [
        "Z = np.random.randint(0,10,(10,10))\n",
        "shape = (5,5)\n",
        "fill  = 0\n",
        "position = (1,1)\n",
        "\n",
        "R = np.ones(shape, dtype=Z.dtype)*fill\n",
        "P  = np.array(list(position)).astype(int)\n",
        "Rs = np.array(list(R.shape)).astype(int)\n",
        "Zs = np.array(list(Z.shape)).astype(int)\n",
        "\n",
        "R_start = np.zeros((len(shape),)).astype(int)\n",
        "R_stop  = np.array(list(shape)).astype(int)\n",
        "Z_start = (P-Rs//2)\n",
        "Z_stop  = (P+Rs//2)+Rs%2\n",
        "\n",
        "R_start = (R_start - np.minimum(Z_start,0)).tolist()\n",
        "Z_start = (np.maximum(Z_start,0)).tolist()\n",
        "R_stop = np.maximum(R_start, (R_stop - np.maximum(Z_stop-Zs,0))).tolist()\n",
        "Z_stop = (np.minimum(Z_stop,Zs)).tolist()\n",
        "\n",
        "r = [slice(start,stop) for start,stop in zip(R_start,R_stop)]\n",
        "z = [slice(start,stop) for start,stop in zip(Z_start,Z_stop)]\n",
        "R[r] = Z[z]\n",
        "print(Z)\n",
        "print(R)"
      ]
    },
    {
      "cell_type": "markdown",
      "metadata": {
        "id": "_FHQVB87dbcw"
      },
      "source": [
        "#### 81. Consider an array Z = \\[1,2,3,4,5,6,7,8,9,10,11,12,13,14\\], how to generate an array R = \\[\\[1,2,3,4\\], \\[2,3,4,5\\], \\[3,4,5,6\\], ..., \\[11,12,13,14\\]\\]? (★★★) \n",
        "(**hint**: stride\\_tricks.as\\_strided)"
      ]
    },
    {
      "cell_type": "code",
      "execution_count": null,
      "metadata": {
        "id": "HM6ZHYTTdbcx",
        "outputId": "5cdea829-df16-422e-d99d-27681339c8cb",
        "colab": {
          "base_uri": "https://localhost:8080/"
        }
      },
      "outputs": [
        {
          "output_type": "stream",
          "name": "stdout",
          "text": [
            "[[ 1  2  3  4]\n",
            " [ 2  3  4  5]\n",
            " [ 3  4  5  6]\n",
            " [ 4  5  6  7]\n",
            " [ 5  6  7  8]\n",
            " [ 6  7  8  9]\n",
            " [ 7  8  9 10]\n",
            " [ 8  9 10 11]\n",
            " [ 9 10 11 12]\n",
            " [10 11 12 13]\n",
            " [11 12 13 14]]\n"
          ]
        }
      ],
      "source": [
        "Z = np.arange(1,15,dtype=np.uint32)\n",
        "R = np.lib.stride_tricks.as_strided(Z,(11,4),(4,4))\n",
        "print(R)"
      ]
    },
    {
      "cell_type": "markdown",
      "metadata": {
        "id": "MKfaHim3dbcx"
      },
      "source": [
        "#### 82. Compute a matrix rank (★★★) \n",
        "(**hint**: np.linalg.svd) (suggestion: np.linalg.svd)"
      ]
    },
    {
      "cell_type": "code",
      "execution_count": null,
      "metadata": {
        "id": "ODPVhs7rdbcx",
        "outputId": "f5b82f66-19bf-4f50-c0c5-cfe5b41c4449",
        "colab": {
          "base_uri": "https://localhost:8080/"
        }
      },
      "outputs": [
        {
          "output_type": "execute_result",
          "data": {
            "text/plain": [
              "10"
            ]
          },
          "metadata": {},
          "execution_count": 37
        }
      ],
      "source": [
        "a=np.random.uniform(0,1,(10,10))\n",
        "rank=np.linalg.matrix_rank(a)\n",
        "rank"
      ]
    },
    {
      "cell_type": "markdown",
      "metadata": {
        "id": "rlyPmFH2dbcy"
      },
      "source": [
        "#### 83. How to find the most frequent value in an array? \n",
        "(**hint**: np.bincount, argmax)"
      ]
    },
    {
      "cell_type": "code",
      "execution_count": null,
      "metadata": {
        "id": "cxBGEnwVdbcy",
        "outputId": "2c20b13d-7361-4b97-bc40-cfc377b0ccf9",
        "colab": {
          "base_uri": "https://localhost:8080/"
        }
      },
      "outputs": [
        {
          "output_type": "stream",
          "name": "stdout",
          "text": [
            "[5 0 9 3 9 1 5 7 1 2 6 8 9 3 3 6 5 4 1 3 7 2 3 6 0 6 2 7 0 3 4 6 2 8 7 5 7\n",
            " 0 9 4 7 8 6 7 2 6 0 8 2 5]\n",
            "6\n",
            "1\n"
          ]
        }
      ],
      "source": [
        "z=np.random.randint(0,10,50)\n",
        "print(z)\n",
        "print(np.bincount(z).argmax())\n",
        "print(np.bincount(z).argmin())"
      ]
    },
    {
      "cell_type": "markdown",
      "metadata": {
        "id": "CIyMiDO0dbcy"
      },
      "source": [
        "#### 84. Extract all the contiguous 3x3 blocks from a random 10x10 matrix (★★★) \n",
        "(**hint**: stride\\_tricks.as\\_strided)"
      ]
    },
    {
      "cell_type": "code",
      "execution_count": null,
      "metadata": {
        "id": "eP4q8NDOdbcz"
      },
      "outputs": [],
      "source": [
        "Z = np.random.randint(0,5,(10,10))\n",
        "n = 3\n",
        "i = 1 + (Z.shape[0]-3)\n",
        "j = 1 + (Z.shape[1]-3)\n",
        "C = stride_tricks.as_strided(Z, shape=(i, j, n, n), strides=Z.strides + Z.strides)\n",
        "print(C)\n",
        "\n",
        "# Author: Jeff Luo (@Jeff1999)\n",
        "\n",
        "Z = np.random.randint(0,5,(10,10))\n",
        "print(sliding_window_view(Z, window_shape=(3, 3)))"
      ]
    },
    {
      "cell_type": "markdown",
      "metadata": {
        "id": "_D3VnDLydbcz"
      },
      "source": [
        "#### 85. Create a 2D array subclass such that Z\\[i,j\\] == Z\\[j,i\\] (★★★) \n",
        "(**hint**: class method)"
      ]
    },
    {
      "cell_type": "code",
      "execution_count": null,
      "metadata": {
        "id": "eeYoGsAodbc0"
      },
      "outputs": [],
      "source": [
        "class Symetric(np.ndarray):\n",
        "    def __setitem__(self, index, value):\n",
        "        i,j = index\n",
        "        super(Symetric, self).__setitem__((i,j), value)\n",
        "        super(Symetric, self).__setitem__((j,i), value)\n",
        "\n",
        "def symetric(Z):\n",
        "    return np.asarray(Z + Z.T - np.diag(Z.diagonal())).view(Symetric)\n",
        "\n",
        "S = symetric(np.random.randint(0,10,(5,5)))\n",
        "S[2,3] = 42\n",
        "print(S)"
      ]
    },
    {
      "cell_type": "markdown",
      "metadata": {
        "id": "WgDJSCacdbc0"
      },
      "source": [
        "#### 86. Consider a set of p matrices wich shape (n,n) and a set of p vectors with shape (n,1). How to compute the sum of of the p matrix products at once? (result has shape (n,1)) (★★★) \n",
        "(**hint**: np.tensordot)"
      ]
    },
    {
      "cell_type": "code",
      "execution_count": 3,
      "metadata": {
        "id": "SIGc2z7Ydbc1",
        "colab": {
          "base_uri": "https://localhost:8080/"
        },
        "outputId": "790cb074-dee6-4d3f-caa9-1e598d8fc65b"
      },
      "outputs": [
        {
          "output_type": "stream",
          "name": "stdout",
          "text": [
            "[[200.]\n",
            " [200.]\n",
            " [200.]\n",
            " [200.]\n",
            " [200.]\n",
            " [200.]\n",
            " [200.]\n",
            " [200.]\n",
            " [200.]\n",
            " [200.]\n",
            " [200.]\n",
            " [200.]\n",
            " [200.]\n",
            " [200.]\n",
            " [200.]\n",
            " [200.]\n",
            " [200.]\n",
            " [200.]\n",
            " [200.]\n",
            " [200.]]\n"
          ]
        }
      ],
      "source": [
        "p, n = 10, 20\n",
        "M = np.ones((p,n,n))\n",
        "V = np.ones((p,n,1))\n",
        "S = np.tensordot(M, V, axes=[[0, 2], [0, 1]])\n",
        "print(S)"
      ]
    },
    {
      "cell_type": "markdown",
      "metadata": {
        "id": "b5OBEd0mdbc1"
      },
      "source": [
        "#### 87. Consider a 16x16 array, how to get the block-sum (block size is 4x4)? (★★★) \n",
        "(**hint**: np.add.reduceat)"
      ]
    },
    {
      "cell_type": "code",
      "execution_count": null,
      "metadata": {
        "id": "BGSfkskWdbc2",
        "outputId": "b4a480e2-ef9a-4f0e-8d04-9881c57c91ce",
        "colab": {
          "base_uri": "https://localhost:8080/"
        }
      },
      "outputs": [
        {
          "output_type": "stream",
          "name": "stdout",
          "text": [
            "[[16. 16. 16. 16.]\n",
            " [16. 16. 16. 16.]\n",
            " [16. 16. 16. 16.]\n",
            " [16. 16. 16. 16.]]\n"
          ]
        }
      ],
      "source": [
        "Z = np.ones((16,16))\n",
        "k = 4\n",
        "S = np.add.reduceat(np.add.reduceat(Z, np.arange(0, Z.shape[0], k), axis=0),\n",
        "                                       np.arange(0, Z.shape[1], k), axis=1)\n",
        "print(S)"
      ]
    },
    {
      "cell_type": "markdown",
      "metadata": {
        "id": "rrdQMNnVdbc3"
      },
      "source": [
        "#### 88. How to implement the Game of Life using numpy arrays? (★★★)"
      ]
    },
    {
      "cell_type": "code",
      "execution_count": null,
      "metadata": {
        "id": "F5qlCcH0dbc4",
        "outputId": "b7b32bf3-a1a0-40c0-df6d-1fe3a394dd11",
        "colab": {
          "base_uri": "https://localhost:8080/"
        }
      },
      "outputs": [
        {
          "output_type": "execute_result",
          "data": {
            "text/plain": [
              "array([5, 0, 9, 3, 9, 1, 5, 7, 1, 2, 6, 8, 9, 3, 3, 6, 5, 4, 1, 3, 7, 2,\n",
              "       3, 6, 0, 6, 2, 7, 0, 3, 4, 6, 2, 8, 7, 5, 7, 0, 9, 4, 7, 8, 6, 7,\n",
              "       2, 6, 0, 8, 2, 5])"
            ]
          },
          "metadata": {},
          "execution_count": 50
        }
      ],
      "source": [
        "Z = np.ones((16))\n",
        "z"
      ]
    },
    {
      "cell_type": "markdown",
      "metadata": {
        "id": "-L9O2_n6dbc4"
      },
      "source": [
        "#### 89. How to get the n largest values of an array (★★★) \n",
        "(**hint**: np.argsort | np.argpartition)"
      ]
    },
    {
      "cell_type": "code",
      "execution_count": null,
      "metadata": {
        "id": "-_8pwq8Fdbc5",
        "outputId": "55b5c2d5-bcc9-4ea0-a48c-dbbe11d3ff27",
        "colab": {
          "base_uri": "https://localhost:8080/"
        }
      },
      "outputs": [
        {
          "output_type": "stream",
          "name": "stdout",
          "text": [
            "4\n",
            "[996 997 998 999]\n"
          ]
        }
      ],
      "source": [
        "b=np.arange(1000)\n",
        "np.random.shuffle(b)\n",
        "n=int(input())\n",
        "print (b[np.argsort(b)[-n:]])"
      ]
    },
    {
      "cell_type": "markdown",
      "metadata": {
        "id": "i9p1_7rrdbc5"
      },
      "source": [
        "#### 90. Given an arbitrary number of vectors, build the cartesian product (every combinations of every item) (★★★) \n",
        "(**hint**: np.indices)"
      ]
    },
    {
      "cell_type": "code",
      "execution_count": null,
      "metadata": {
        "scrolled": true,
        "id": "SHjkFS2zdbc6"
      },
      "outputs": [],
      "source": [
        "def cartesian(arrays):\n",
        "    arrays = [np.asarray(a) for a in arrays]\n",
        "    shape = (len(x) for x in arrays)\n",
        "\n",
        "    ix = np.indices(shape, dtype=int)\n",
        "    ix = ix.reshape(len(arrays), -1).T\n",
        "\n",
        "    for n, arr in enumerate(arrays):\n",
        "        ix[:, n] = arrays[n][ix[:, n]]\n",
        "\n",
        "    return ix\n",
        "\n",
        "print (cartesian(([1, 2, 3], [4, 5], [6, 7])))"
      ]
    },
    {
      "cell_type": "markdown",
      "metadata": {
        "id": "QgbILiRtdbc7"
      },
      "source": [
        "#### 91. How to create a record array from a regular array? (★★★) \n",
        "(**hint**: np.core.records.fromarrays)"
      ]
    },
    {
      "cell_type": "code",
      "execution_count": null,
      "metadata": {
        "id": "cBxDW4OWdbc7"
      },
      "outputs": [],
      "source": [
        "Z = np.array([(\"Hello\", 2.5, 3),\n",
        "              (\"World\", 3.6, 2)])\n",
        "R = np.core.records.fromarrays(Z.T,\n",
        "                               names='col1, col2, col3',\n",
        "                               formats = 'S8, f8, i8')\n",
        "print(R)"
      ]
    },
    {
      "cell_type": "markdown",
      "metadata": {
        "id": "XTyWM-didbc8"
      },
      "source": [
        "#### 92. Consider a large vector Z, compute Z to the power of 3 using 3 different methods (★★★) \n",
        "(**hint**: np.power, \\*, np.einsum)"
      ]
    },
    {
      "cell_type": "code",
      "execution_count": null,
      "metadata": {
        "id": "BLz7ayeYdbc9"
      },
      "outputs": [],
      "source": [
        "x = np.random.rand(int(5e7))\n",
        "\n",
        "%timeit np.power(x,3)\n",
        "%timeit x*x*x\n",
        "%timeit np.einsum('i,i,i->i',x,x,x)"
      ]
    },
    {
      "cell_type": "markdown",
      "metadata": {
        "id": "7wudnsHOdbc9"
      },
      "source": [
        "#### 93. Consider two arrays A and B of shape (8,3) and (2,2). How to find rows of A that contain elements of each row of B regardless of the order of the elements in B? (★★★) \n",
        "(**hint**: np.where)"
      ]
    },
    {
      "cell_type": "code",
      "execution_count": null,
      "metadata": {
        "id": "h4CHyh5ndbc-"
      },
      "outputs": [],
      "source": [
        "A = np.random.randint(0,5,(8,3))\n",
        "B = np.random.randint(0,5,(2,2))\n",
        "\n",
        "C = (A[..., np.newaxis, np.newaxis] == B)\n",
        "rows = np.where(C.any((3,1)).all(1))[0]\n",
        "print(rows)"
      ]
    },
    {
      "cell_type": "markdown",
      "metadata": {
        "id": "sSZyT6vGdbc-"
      },
      "source": [
        "#### 94. Considering a 10x3 matrix, extract rows with unequal values (e.g. \\[2,2,3\\]) (★★★)"
      ]
    },
    {
      "cell_type": "code",
      "execution_count": null,
      "metadata": {
        "id": "n2UwsyqCdbdA",
        "outputId": "55fbf9fa-e581-485a-9a49-f05ff4fc17da",
        "colab": {
          "base_uri": "https://localhost:8080/"
        }
      },
      "outputs": [
        {
          "output_type": "stream",
          "name": "stdout",
          "text": [
            "[[3 0 3]\n",
            " [4 2 1]\n",
            " [4 2 4]\n",
            " [1 2 3]\n",
            " [0 3 0]\n",
            " [0 1 0]\n",
            " [0 1 3]\n",
            " [1 4 4]\n",
            " [0 3 2]\n",
            " [3 3 0]]\n"
          ]
        }
      ],
      "source": [
        "import numpy as np\n",
        "Z = np.random.randint(0,5,(10,3))\n",
        "\n",
        "# solution for arrays of all dtypes (including string arrays and record arrays)\n",
        "E = np.all(Z[:,1:] == Z[:,:-1], axis=1)\n",
        "U = Z[~E]\n",
        "print(U)"
      ]
    },
    {
      "cell_type": "markdown",
      "metadata": {
        "id": "TaSJbYCtdbdA"
      },
      "source": [
        "#### 95. Convert a vector of ints into a matrix binary representation (★★★) \n",
        "(**hint**: np.unpackbits)"
      ]
    },
    {
      "cell_type": "code",
      "execution_count": 2,
      "metadata": {
        "id": "wx-nt7wVdbdB",
        "colab": {
          "base_uri": "https://localhost:8080/"
        },
        "outputId": "4c58a932-92c0-4950-98a9-616199c9e522"
      },
      "outputs": [
        {
          "output_type": "stream",
          "name": "stdout",
          "text": [
            "[[0 0 0 0 0 0 0 0]\n",
            " [0 0 0 0 0 0 0 1]\n",
            " [0 0 0 0 0 0 1 0]\n",
            " [0 0 0 0 0 0 1 1]\n",
            " [0 0 0 0 1 1 1 1]\n",
            " [0 0 0 1 0 0 0 0]\n",
            " [0 0 1 0 0 0 0 0]\n",
            " [0 1 0 0 0 0 0 0]\n",
            " [1 0 0 0 0 0 0 0]]\n"
          ]
        }
      ],
      "source": [
        "import numpy as np\n",
        "I = np.array([0, 1, 2, 3, 15, 16, 32, 64, 128])\n",
        "B = ((I.reshape(-1,1) & (2**np.arange(8))) != 0).astype(int)\n",
        "print(B[:,::-1])"
      ]
    },
    {
      "cell_type": "markdown",
      "metadata": {
        "id": "VGkCzSrgdbdC"
      },
      "source": [
        "#### 96. Given a two dimensional array, how to extract unique rows? (★★★) \n",
        "(**hint**: np.ascontiguousarray)"
      ]
    },
    {
      "cell_type": "code",
      "execution_count": null,
      "metadata": {
        "id": "QojPTjwudbdD",
        "outputId": "3b2a6e06-b9dd-4548-cb7a-9e0b9ade475a",
        "colab": {
          "base_uri": "https://localhost:8080/"
        }
      },
      "outputs": [
        {
          "output_type": "stream",
          "name": "stdout",
          "text": [
            "[[0 1 0 0 1]\n",
            " [0 1 1 1 0]\n",
            " [1 0 1 1 1]]\n"
          ]
        }
      ],
      "source": [
        "Z=np.random.randint(0,2,(3,5))\n",
        "uZ = np.unique(Z, axis=0)\n",
        "print(uZ)"
      ]
    },
    {
      "cell_type": "markdown",
      "metadata": {
        "id": "lnfZzIvUdbdD"
      },
      "source": [
        "#### 97. Considering 2 vectors A & B, write the einsum equivalent of inner, outer, sum, and mul function (★★★) \n",
        "(**hint**: np.einsum)"
      ]
    },
    {
      "cell_type": "code",
      "execution_count": null,
      "metadata": {
        "id": "3QBpgbtddbdE"
      },
      "outputs": [],
      "source": [
        "A = np.random.uniform(0,1,10)\n",
        "B = np.random.uniform(0,1,10)\n",
        "\n",
        "\n",
        "np.einsum('i->', A)       # np.sum(A)\n",
        "np.einsum('i,i->i', A, B) # A * B\n",
        "np.einsum('i,i', A, B)    # np.inner(A, B)\n",
        "np.einsum('i,j->ij', A, B)    # np.outer(A, B)"
      ]
    },
    {
      "cell_type": "markdown",
      "metadata": {
        "id": "oP2ki3OudbdE"
      },
      "source": [
        "#### 98. Considering a path described by two vectors (X,Y), how to sample it using equidistant samples (★★★)? \n",
        "(**hint**: np.cumsum, np.interp)"
      ]
    },
    {
      "cell_type": "code",
      "execution_count": null,
      "metadata": {
        "collapsed": true,
        "id": "my6FJ8Q_dbdF"
      },
      "outputs": [],
      "source": [
        "phi = np.arange(0, 10*np.pi, 0.1)\n",
        "a = 1\n",
        "x = a*phi*np.cos(phi)\n",
        "y = a*phi*np.sin(phi)\n",
        "\n",
        "dr = (np.diff(x)**2 + np.diff(y)**2)**.5 # segment lengths\n",
        "r = np.zeros_like(x)\n",
        "r[1:] = np.cumsum(dr)                # integrate path\n",
        "r_int = np.linspace(0, r.max(), 200) # regular spaced path\n",
        "x_int = np.interp(r_int, r, x)       # integrate path\n",
        "y_int = np.interp(r_int, r, y)"
      ]
    },
    {
      "cell_type": "markdown",
      "metadata": {
        "id": "he1AjtZMdbdF"
      },
      "source": [
        "#### 99. Given an integer n and a 2D array X, select from X the rows which can be interpreted as draws from a multinomial distribution with n degrees, i.e., the rows which only contain integers and which sum to n. (★★★) \n",
        "(**hint**: np.logical\\_and.reduce, np.mod)"
      ]
    },
    {
      "cell_type": "code",
      "execution_count": null,
      "metadata": {
        "id": "j6sjyj9CdbdG",
        "outputId": "ac5ebbe3-f13b-4f59-d8a4-697180d5b960",
        "colab": {
          "base_uri": "https://localhost:8080/"
        }
      },
      "outputs": [
        {
          "output_type": "stream",
          "name": "stdout",
          "text": [
            "[[2. 0. 1. 1.]]\n"
          ]
        }
      ],
      "source": [
        "X = np.asarray([[1.0, 0.0, 3.0, 8.0],\n",
        "                [2.0, 0.0, 1.0, 1.0],\n",
        "                [1.5, 2.5, 1.0, 0.0]])\n",
        "n = 4\n",
        "M = np.logical_and.reduce(np.mod(X, 1) == 0, axis=-1)\n",
        "M &= (X.sum(axis=-1) == n)\n",
        "print(X[M])"
      ]
    },
    {
      "cell_type": "markdown",
      "metadata": {
        "id": "SSyjsP0DdbdG"
      },
      "source": [
        "#### 100. Compute bootstrapped 95% confidence intervals for the mean of a 1D array X (i.e., resample the elements of an array with replacement N times, compute the mean of each sample, and then compute percentiles over the means). (★★★) \n",
        "(**hint**: np.percentile)"
      ]
    },
    {
      "cell_type": "code",
      "execution_count": null,
      "metadata": {
        "id": "x_pEq0MMdbdH"
      },
      "outputs": [],
      "source": [
        "X = np.random.randn(100) # random 1D array\n",
        "N = 1000 # number of bootstrap samples\n",
        "idx = np.random.randint(0, X.size, (N, X.size))\n",
        "means = X[idx].mean(axis=1)\n",
        "confint = np.percentile(means, [2.5, 97.5])\n",
        "print(confint)"
      ]
    }
  ],
  "metadata": {
    "kernelspec": {
      "display_name": "Python 3",
      "language": "python",
      "name": "python3"
    },
    "language_info": {
      "codemirror_mode": {
        "name": "ipython",
        "version": 3
      },
      "file_extension": ".py",
      "mimetype": "text/x-python",
      "name": "python",
      "nbconvert_exporter": "python",
      "pygments_lexer": "ipython3",
      "version": "3.8.3"
    },
    "colab": {
      "name": "Copy of Numpy_tasks.ipynb",
      "provenance": [],
      "collapsed_sections": [
        "RK-g8lKQdbaY",
        "FIzFaUAZdbaa",
        "T0OsYfFIdbac",
        "JPcqbjFAdbae",
        "aRkewWM0dbaf",
        "EvJZuibIdbag",
        "QU17aQkGdbah",
        "hdTSU9C3dbai",
        "rh-9HInOdbaj",
        "v_zyXzZJdbak",
        "labmoc_bdban",
        "T0NGl_vTdbao",
        "sMJLYHOCdbar",
        "44JdwXHLdbas",
        "FD0JsQy4dbav",
        "QX8c95vpdbax",
        "k3h8kAgRdbaz",
        "XQf4q3Nudba0",
        "57ytL3xedba1",
        "KYa7xxw_dba4",
        "9TnhHtgzdba7",
        "0so8sleWdba9",
        "pgE_hcM1dba-",
        "rKUbyGqJdba_",
        "gaFpDPK7dbbA",
        "nc2wcQg-dbbB",
        "5LXhtUZVdbbC",
        "p2xK5OyRdbbD",
        "xeiLzQ7DdbbE",
        "OPWrg-mkdbbF",
        "tvU34Atfdbbl",
        "ejOzwgxKdbbt",
        "Z9K5LSVFdbbu",
        "hdRwLpeXdbbv",
        "-tm_wPQjdbbw",
        "hvWr9a36dbby",
        "F6VFu73Ldbb0",
        "L8mlGmrKdbb1",
        "i717Vim8dbb3",
        "CuvV-JBMdbb5",
        "s0rXl_YFdbb6",
        "GuYBUlKEdbb7",
        "TkXG3Og3dbb7",
        "LgwzeRNfdbb8",
        "SYnkCC2adbb-",
        "Etcrd-Oudbb_",
        "v9R2yKOBdbcA",
        "fv6k-FNvdbcB",
        "7XkLwA2_dbcB",
        "6sg2zDV7dbcC",
        "2BV6c_mTdbcD",
        "tqhEhBAddbcE",
        "A-lD0TZfdbcF",
        "amoHNAAHdbcG",
        "Rupvi8rhdbcI",
        "f4mIf2RJdbcJ",
        "kbjqyz9FdbcK",
        "XWCw_7zedbcL",
        "re1zaWw2dbcM",
        "Q-1QtG3ZdbcP",
        "V7Ic3VvfdbcR",
        "E5BT-K-VdbcS",
        "JBhTeTSodbcU",
        "l8VmMzzqdbcW",
        "ktbnYfBDdbcX",
        "Tkhbl2BJdbcZ",
        "npDIJCApdbcb",
        "aFzFOyGqdbci",
        "lCoTvYbLdbcj",
        "p7eRbcgBdbcr",
        "lU-_Ymhjdbct",
        "4kekXHXLdbcv",
        "dtiAB-8ddbcw",
        "_FHQVB87dbcw",
        "MKfaHim3dbcx",
        "rlyPmFH2dbcy",
        "CIyMiDO0dbcy",
        "_D3VnDLydbcz",
        "WgDJSCacdbc0",
        "b5OBEd0mdbc1",
        "rrdQMNnVdbc3",
        "-L9O2_n6dbc4",
        "i9p1_7rrdbc5",
        "QgbILiRtdbc7",
        "XTyWM-didbc8",
        "7wudnsHOdbc9",
        "sSZyT6vGdbc-",
        "TaSJbYCtdbdA",
        "VGkCzSrgdbdC",
        "lnfZzIvUdbdD",
        "oP2ki3OudbdE",
        "he1AjtZMdbdF",
        "SSyjsP0DdbdG"
      ],
      "include_colab_link": true
    }
  },
  "nbformat": 4,
  "nbformat_minor": 0
}